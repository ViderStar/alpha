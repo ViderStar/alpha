{
 "cells": [
  {
   "cell_type": "markdown",
   "source": [
    "#### Импорт библиотек"
   ],
   "metadata": {
    "collapsed": false
   },
   "id": "68b821dc807c991d"
  },
  {
   "cell_type": "code",
   "execution_count": 98,
   "id": "initial_id",
   "metadata": {
    "collapsed": true,
    "ExecuteTime": {
     "end_time": "2023-08-07T12:50:28.782961200Z",
     "start_time": "2023-08-07T12:50:28.777847Z"
    }
   },
   "outputs": [],
   "source": [
    "import pandas as pd\n",
    "import numpy as np\n",
    "import matplotlib.pyplot as plt\n",
    "import seaborn as sns\n",
    "import re\n",
    "from sklearn.linear_model import LogisticRegression\n",
    "from sklearn.tree import DecisionTreeClassifier\n",
    "from sklearn.ensemble import RandomForestClassifier, AdaBoostClassifier\n",
    "from sklearn.model_selection import train_test_split, GridSearchCV\n",
    "from sklearn.metrics import confusion_matrix, classification_report\n",
    "from sklearn.preprocessing import OneHotEncoder\n",
    "from imblearn.over_sampling import SMOTE"
   ]
  },
  {
   "cell_type": "markdown",
   "source": [
    "#### Загрузка данных"
   ],
   "metadata": {
    "collapsed": false
   },
   "id": "85f1775be0e481b4"
  },
  {
   "cell_type": "code",
   "execution_count": 99,
   "outputs": [],
   "source": [
    "df = pd.read_excel('training.xlsb', engine='pyxlsb')"
   ],
   "metadata": {
    "collapsed": false,
    "ExecuteTime": {
     "end_time": "2023-08-07T12:50:41.392049700Z",
     "start_time": "2023-08-07T12:50:29.751043100Z"
    }
   },
   "id": "cbdc80895d9b8602"
  },
  {
   "cell_type": "code",
   "execution_count": 100,
   "outputs": [],
   "source": [
    "\n",
    "test = pd.read_excel('test.xlsb', engine='pyxlsb')"
   ],
   "metadata": {
    "collapsed": false,
    "ExecuteTime": {
     "end_time": "2023-08-07T12:50:48.612427200Z",
     "start_time": "2023-08-07T12:50:41.392049700Z"
    }
   },
   "id": "15ba28fd85adbcd7"
  },
  {
   "cell_type": "markdown",
   "source": [
    "#### Быстрый EDA"
   ],
   "metadata": {
    "collapsed": false
   },
   "id": "b558d047ca85a80a"
  },
  {
   "cell_type": "code",
   "execution_count": 101,
   "outputs": [
    {
     "name": "stdout",
     "output_type": "stream",
     "text": [
      "   ID         A         B      C       D         E         F   G     H      I  \\\n",
      "0   1  0.198778  0.099389   0.00  799.90  1.777556  0.888778  13  3.49  Woman   \n",
      "1   2  0.043000  0.021264  49.97  173.03  0.384511  0.190143  13  3.49  Woman   \n",
      "2   3  0.067073  0.067073   0.00  329.90  0.599818  0.599818  13  3.49  Woman   \n",
      "3   4  0.052700  0.052700   0.00  235.65  0.471300  0.471300  13  3.49  Woman   \n",
      "4   5  0.141880  0.141880   0.00  634.45  1.268900  1.268900  13  3.49  Woman   \n",
      "\n",
      "           J               K    L            M  \\\n",
      "0  33.750000  Mogilev region  132  NE employee   \n",
      "1  33.250000    Minsk region    6  NE employee   \n",
      "2  38.583333  Vitebsk region   71  NE employee   \n",
      "3  61.250000    Minsk region   48    Pensioner   \n",
      "4  48.583333    Brest region   48  NE employee   \n",
      "\n",
      "                                              N               O       P  \\\n",
      "0  Secondary education (plus special education)         Married   2 Two   \n",
      "1  Secondary education (plus special education)         Married   2 Two   \n",
      "2  Secondary education (plus special education)  Divorced/widow   1 One   \n",
      "3  Secondary education (plus special education)  Divorced/widow  0 Zero   \n",
      "4  Secondary education (plus special education)  Divorced/widow  0 Zero   \n",
      "\n",
      "           Q   R          S    T    U    V    W   X  MARKER  \n",
      "0   property  No      Works  Yes  Yes   No  Yes  No       0  \n",
      "1  otherwise  No      Works  Yes  Yes  Yes  Yes  No       0  \n",
      "2   property  No  No couple   No  Yes   No  Yes  No       0  \n",
      "3   property  No  No couple  Yes  Yes  Few  Yes  No       0  \n",
      "4   property  No  No couple  Yes   No   No   No  No       0  \n"
     ]
    }
   ],
   "source": [
    "print(df.head())"
   ],
   "metadata": {
    "collapsed": false,
    "ExecuteTime": {
     "end_time": "2023-08-07T12:50:48.623104900Z",
     "start_time": "2023-08-07T12:50:48.615025300Z"
    }
   },
   "id": "e03b5e31e14f9745"
  },
  {
   "cell_type": "code",
   "execution_count": 102,
   "outputs": [
    {
     "name": "stdout",
     "output_type": "stream",
     "text": [
      "(89734, 26)\n"
     ]
    }
   ],
   "source": [
    "print(df.shape)"
   ],
   "metadata": {
    "collapsed": false,
    "ExecuteTime": {
     "end_time": "2023-08-07T12:50:48.639213800Z",
     "start_time": "2023-08-07T12:50:48.622095800Z"
    }
   },
   "id": "b4a6110e50e4aa57"
  },
  {
   "cell_type": "code",
   "execution_count": 103,
   "outputs": [
    {
     "name": "stdout",
     "output_type": "stream",
     "text": [
      "MARKER\n",
      "0    89392\n",
      "1      342\n",
      "dtype: int64\n"
     ]
    }
   ],
   "source": [
    "print(df.groupby('MARKER').size())"
   ],
   "metadata": {
    "collapsed": false,
    "ExecuteTime": {
     "end_time": "2023-08-07T12:50:48.639213800Z",
     "start_time": "2023-08-07T12:50:48.629811400Z"
    }
   },
   "id": "ae567fbce3f152fa"
  },
  {
   "cell_type": "code",
   "execution_count": 104,
   "outputs": [
    {
     "name": "stdout",
     "output_type": "stream",
     "text": [
      "ID        0\n",
      "A         0\n",
      "B         0\n",
      "C         0\n",
      "D         0\n",
      "E         0\n",
      "F         0\n",
      "G         0\n",
      "H         0\n",
      "I         0\n",
      "J         0\n",
      "K         0\n",
      "L         0\n",
      "M         0\n",
      "N         0\n",
      "O         0\n",
      "P         0\n",
      "Q         0\n",
      "R         0\n",
      "S         0\n",
      "T         0\n",
      "U         0\n",
      "V         0\n",
      "W         0\n",
      "X         0\n",
      "MARKER    0\n",
      "dtype: int64\n"
     ]
    }
   ],
   "source": [
    "print(df.isnull().sum())"
   ],
   "metadata": {
    "collapsed": false,
    "ExecuteTime": {
     "end_time": "2023-08-07T12:50:48.702111700Z",
     "start_time": "2023-08-07T12:50:48.639213800Z"
    }
   },
   "id": "ef7c843eb582c069"
  },
  {
   "cell_type": "code",
   "execution_count": 105,
   "outputs": [
    {
     "name": "stdout",
     "output_type": "stream",
     "text": [
      "                 ID             A             B             C             D  \\\n",
      "count  89734.000000  89734.000000  89734.000000  89734.000000  89734.000000   \n",
      "mean   44867.500000      0.167863      0.113511     85.801266    548.507954   \n",
      "std    25904.118865      0.153851      0.105340    105.366771    448.686233   \n",
      "min        1.000000      0.000002      0.000001      0.000000     49.980000   \n",
      "25%    22434.250000      0.065843      0.042922     20.570000    227.030000   \n",
      "50%    44867.500000      0.119133      0.079733     50.020000    408.735000   \n",
      "75%    67300.750000      0.220000      0.146990    108.930000    746.710000   \n",
      "max    89734.000000      7.067250      0.874025   2682.420000   4999.000000   \n",
      "\n",
      "                  E             F             G             H             J  \\\n",
      "count  89734.000000  89734.000000  89734.000000  89734.000000  89734.000000   \n",
      "mean       1.011455      0.683640      7.854358      0.510274     41.140778   \n",
      "std        0.910583      0.622047      4.754588      0.928146     11.129976   \n",
      "min        0.000016      0.000012      2.000000      0.000000     21.000000   \n",
      "25%        0.405983      0.263775      4.000000      0.000000     32.083333   \n",
      "50%        0.749403      0.499387      5.000000      0.000000     40.000000   \n",
      "75%        1.333367      0.899260     13.000000      0.010000     50.000000   \n",
      "max       35.337000     10.352991     24.000000      3.500000     64.916667   \n",
      "\n",
      "                  L        MARKER  \n",
      "count  89734.000000  89734.000000  \n",
      "mean     103.719092      0.003811  \n",
      "std      100.458022      0.061618  \n",
      "min        0.000000      0.000000  \n",
      "25%       29.000000      0.000000  \n",
      "50%       69.000000      0.000000  \n",
      "75%      144.000000      0.000000  \n",
      "max      540.000000      1.000000  \n"
     ]
    }
   ],
   "source": [
    "print(df.describe())"
   ],
   "metadata": {
    "collapsed": false,
    "ExecuteTime": {
     "end_time": "2023-08-07T12:50:48.718136100Z",
     "start_time": "2023-08-07T12:50:48.665852900Z"
    }
   },
   "id": "6dae286e76ee1211"
  },
  {
   "cell_type": "code",
   "execution_count": 106,
   "outputs": [
    {
     "name": "stdout",
     "output_type": "stream",
     "text": [
      "[  0.    49.97  40.7  ... 521.6  298.35 237.77]\n",
      "[13 24  5  2 10  4  9 11  6  3 20]\n",
      "[3.49  1.99  0.01  2.49  3.5   3.    2.99  0.    1.235 1.1   1.17  1.32\n",
      " 2.5  ]\n",
      "['Woman' 'Man']\n",
      "['Mogilev region' 'Minsk region' 'Vitebsk region' 'Brest region' 'Minsk'\n",
      " 'Grodno region' 'Gomel region']\n",
      "['NE employee' 'Pensioner' 'Head/Deputy head (organiz.)'\n",
      " 'Head/Deputy head (division)' 'Enterpreneur']\n",
      "['Secondary education (plus special education)'\n",
      " 'Higher education (one or more)' 'Incomplete higher education'\n",
      " 'Primary or lower secondary education']\n",
      "['Married' 'Divorced/widow' 'Single/unmarried' 'Cohabitation']\n",
      "['2 Two' '1 One' '0 Zero' '3 Three' 'More than 3']\n",
      "['No' 'Yes']\n",
      "['Works' 'No couple' 'Pensioner' 'Unemployed' 'Student']\n",
      "['Yes' 'No']\n",
      "['Yes' 'No']\n",
      "['No' 'Yes' 'Few']\n",
      "['Yes' 'No']\n",
      "['No' 'Yes']\n"
     ]
    }
   ],
   "source": [
    "print(df['C'].unique())\n",
    "print(df['G'].unique())\n",
    "print(df['H'].unique())\n",
    "print(df['I'].unique())\n",
    "print(df['K'].unique())\n",
    "print(df['M'].unique())\n",
    "print(df['N'].unique())\n",
    "print(df['O'].unique())\n",
    "print(df['P'].unique())\n",
    "print(df['R'].unique())\n",
    "print(df['S'].unique())\n",
    "print(df['T'].unique())\n",
    "print(df['U'].unique())\n",
    "print(df['V'].unique())\n",
    "print(df['W'].unique())\n",
    "print(df['X'].unique())"
   ],
   "metadata": {
    "collapsed": false,
    "ExecuteTime": {
     "end_time": "2023-08-07T12:50:48.827640500Z",
     "start_time": "2023-08-07T12:50:48.713631900Z"
    }
   },
   "id": "de264f39565444f0"
  },
  {
   "cell_type": "code",
   "execution_count": 134,
   "outputs": [],
   "source": [
    "def load_float_data():\n",
    "    df = pd.read_excel('training.xlsb', engine='pyxlsb')\n",
    "    \n",
    "    df = df.rename(columns={'I': 'sex',\n",
    "                            'J': 'age',\n",
    "                            'K': 'region',\n",
    "                            'M': 'job',\n",
    "                            'N': 'edu',\n",
    "                            'O': 'married',\n",
    "                            'P': 'child',\n",
    "                            'Q': 'property',\n",
    "                            'S': 'status'})\n",
    "    \n",
    "    # Есть текстовые значения - заменим на 1 и 0\n",
    "    df['sex'] = df['sex'].map({'Man': 1, 'Woman': 0})\n",
    "    \n",
    "    df['R'] = df['R'].map({'Yes': 1, 'No': 0})\n",
    "    df['T'] = df['T'].map({'Yes': 1, 'No': 0})\n",
    "    df['U'] = df['U'].map({'Yes': 1, 'No': 0})\n",
    "    df['V'] = df['V'].map({'Yes': 1, 'No': 0, 'Few': 2})\n",
    "    df['W'] = df['W'].map({'Yes': 1, 'No': 0})\n",
    "    df['X'] = df['X'].map({'Yes': 1, 'No': 0})\n",
    "    \n",
    "    df['edu'] = df['edu'].map({'Higher education (one or more)': 3,\n",
    "                               'Secondary education (plus special education)': 1,\n",
    "                               'Incomplete higher education': 2,\n",
    "                               'Primary or lower secondary education': 0})\n",
    "    \n",
    "    df['married'] = df['married'].map({'Married': 1,\n",
    "                                       'Single/unmarried': 0,\n",
    "                                       'Divorced/widow': -1,\n",
    "                                       'Cohabitation': -2})\n",
    "    \n",
    "    df['job'] = df['job'].map({'NE employee': 0,\n",
    "                               'Pensioner': 1,\n",
    "                               'Head/Deputy head (organiz.)': 2,\n",
    "                               'Head/Deputy head (division)': 3,\n",
    "                               'Enterpreneur': 4})\n",
    "    \n",
    "    df['region'] = df['region'].map({'Mogilev region': 6,\n",
    "                                     'Minsk region': 5,\n",
    "                                     'Vitebsk region': 2,\n",
    "                                     'Brest region': 1,\n",
    "                                     'Minsk': 7,\n",
    "                                     'Grodno region': 4,\n",
    "                                     'Gomel region': 3})\n",
    "    df['property'] = df['property'].map({'property': 2, 'rent/hire': 1, 'otherwise': 0})\n",
    "    df['status'] = df['status'].map({'Works':4, 'No couple':3, 'Pensioner':2, 'Unemployed':0, 'Student':1,})\n",
    "    \n",
    "    df['child'] = df['child'].map(lambda x: re.sub('[^0-9]+', '', str(x)))\n",
    "    df['child'] = df['child'].astype(int)\n",
    "    \n",
    "    return df\n"
   ],
   "metadata": {
    "collapsed": false,
    "ExecuteTime": {
     "end_time": "2023-08-07T14:44:01.944090200Z",
     "start_time": "2023-08-07T14:44:01.933583Z"
    }
   },
   "id": "59cf7d3d627d7d40"
  },
  {
   "cell_type": "code",
   "execution_count": null,
   "outputs": [],
   "source": [
    "df = load_float_data()"
   ],
   "metadata": {
    "collapsed": false
   },
   "id": "3f8b375bd81ecc0"
  },
  {
   "cell_type": "code",
   "execution_count": 108,
   "outputs": [
    {
     "name": "stdout",
     "output_type": "stream",
     "text": [
      "    ID         A         B       C        D         E         F   G     H  \\\n",
      "0    1  0.198778  0.099389    0.00   799.90  1.777556  0.888778  13  3.49   \n",
      "1    2  0.043000  0.021264   49.97   173.03  0.384511  0.190143  13  3.49   \n",
      "2    3  0.067073  0.067073    0.00   329.90  0.599818  0.599818  13  3.49   \n",
      "3    4  0.052700  0.052700    0.00   235.65  0.471300  0.471300  13  3.49   \n",
      "4    5  0.141880  0.141880    0.00   634.45  1.268900  1.268900  13  3.49   \n",
      "5    6  0.054657  0.025507    0.00   171.10  0.488857  0.228133  13  3.49   \n",
      "6    7  0.117114  0.051238   40.70   366.60  1.047429  0.458250  13  3.49   \n",
      "7    8  0.088231  0.088231   57.05   512.85  0.789000  0.789000  13  3.49   \n",
      "8    9  0.079242  0.079242   26.03   233.87  0.708697  0.708697  13  3.49   \n",
      "9   10  0.080296  0.049273    0.00   223.90  0.829259  0.508864  13  1.99   \n",
      "10  11  0.058360  0.029180   28.99   260.91  0.521820  0.260910  13  3.49   \n",
      "11  12  0.115800  0.061306    0.00   931.99  1.035544  0.548229  13  3.49   \n",
      "12  13  0.091657  0.049354  122.99   286.91  0.819743  0.441400  13  3.49   \n",
      "13  14  0.030917  0.018550    0.00   165.90  0.276500  0.165900  13  3.49   \n",
      "14  15  0.345057  0.109791    0.00  1080.00  3.085714  0.981818  13  3.49   \n",
      "15  16  0.073500  0.073500    0.00   525.90  0.657375  0.657375  13  3.49   \n",
      "16  17  0.078929  0.078929    0.00  1199.90  0.705824  0.705824  13  3.49   \n",
      "17  18  0.287071  0.147037    0.00  1078.20  2.567143  1.314878  13  3.49   \n",
      "18  19  0.044715  0.034194    0.00   519.90  0.399923  0.305824  13  3.49   \n",
      "19  20  0.099378  0.052612    0.00   399.90  0.888667  0.470471  13  3.49   \n",
      "20  21  0.050700  0.050700   25.18   226.72  0.453440  0.453440  13  3.49   \n",
      "21  22  0.057767  0.057767    0.00   309.90  0.516500  0.516500  13  3.49   \n",
      "22  23  0.056000  0.028000    0.00   150.25  0.500833  0.250417  13  3.49   \n",
      "23  24  0.068442  0.068442   40.65   365.43  0.612111  0.612111  13  3.49   \n",
      "24  25  0.270564  0.148810  482.94  1932.06  3.512836  1.932060  13  0.01   \n",
      "25  26  0.185387  0.058345    0.00  1027.90  1.657903  0.521777  13  3.49   \n",
      "26  27  0.153253  0.153253    0.00  1027.90  1.370533  1.370533  13  3.49   \n",
      "27  28  0.057677  0.057677    0.00   159.90  0.515806  0.515806  13  3.49   \n",
      "28  29  0.055444  0.055444    0.00   223.11  0.495800  0.495800  13  3.49   \n",
      "29  30  0.109507  0.109507    0.00   734.49  0.979320  0.979320  13  3.49   \n",
      "30  31  0.299450  0.085557    0.00  1071.20  2.678000  0.765143  13  3.49   \n",
      "31  32  0.260122  0.137054    0.00   569.90  2.326122  1.225591  13  3.49   \n",
      "32  33  0.074911  0.048157   66.96   602.94  0.669933  0.430671  13  3.49   \n",
      "33  34  0.095037  0.069118    0.00   679.90  0.849875  0.618091  13  3.49   \n",
      "34  35  0.275800  0.027580    0.00   739.90  2.466333  0.246633  13  3.49   \n",
      "35  36  0.072486  0.072486    0.00   239.90  0.648378  0.648378  13  3.49   \n",
      "36  37  0.034660  0.017330    0.00   154.90  0.309800  0.154900  13  3.49   \n",
      "37  38  0.096063  0.096063    0.00   816.17  0.859126  0.859126  13  3.49   \n",
      "38  39  0.008527  0.008527   22.10   198.25  0.076250  0.076250  13  3.49   \n",
      "39  40  0.066375  0.048273   52.81   474.89  0.593612  0.431718  13  3.49   \n",
      "40  41  0.370312  0.370312    0.00   529.90  3.311875  3.311875  13  3.49   \n",
      "41  42  0.144357  0.101050    0.00   903.63  1.290900  0.903630  13  3.49   \n",
      "42  43  0.150154  0.084870   96.98   872.82  1.342800  0.758974  13  3.49   \n",
      "43  44  0.095545  0.095545    0.00   469.90  0.854364  0.854364  13  3.49   \n",
      "44  45  0.080480  0.080480    0.00   179.90  0.719600  0.719600  13  3.49   \n",
      "45  46  0.106293  0.106293  482.94  1932.06  1.380043  1.380043  13  0.01   \n",
      "46  47  0.206800  0.108842    0.00   554.80  1.849333  0.973333  13  3.49   \n",
      "47  48  0.079750  0.046456    0.00   469.90  0.783167  0.456214  13  2.49   \n",
      "48  49  0.142540  0.142540    0.00   699.90  1.399800  1.399800  13  2.49   \n",
      "49  50  0.070675  0.040386    0.00   277.70  0.694250  0.396714  13  2.49   \n",
      "\n",
      "    sex        age  region    L  job  edu  married  child  property  R  \\\n",
      "0     0  33.750000       6  132    0    1        1      2         2  0   \n",
      "1     0  33.250000       5    6    0    1        1      2         0  0   \n",
      "2     0  38.583333       2   71    0    1       -1      1         2  0   \n",
      "3     0  61.250000       5   48    1    1       -1      0         2  0   \n",
      "4     0  48.583333       1   48    0    1       -1      0         2  0   \n",
      "5     0  38.916667       1   44    0    1        1      1         0  0   \n",
      "6     1  47.416667       2   38    0    1        1      2         2  0   \n",
      "7     1  25.916667       7   24    0    1        0      0         2  1   \n",
      "8     0  63.250000       7  421    1    1       -1      0         2  0   \n",
      "9     1  61.666667       4   18    1    1        1      0         2  0   \n",
      "10    1  25.750000       5    9    0    3        1      0         2  1   \n",
      "11    0  39.833333       7    3    2    3        1      1         2  1   \n",
      "12    1  49.666667       4   24    0    1        1      0         2  0   \n",
      "13    1  30.250000       2   42    0    1        1      1         2  0   \n",
      "14    0  40.500000       5  132    0    1        1      1         2  1   \n",
      "15    1  29.916667       3  132    0    1        1      1         2  0   \n",
      "16    1  27.416667       7   37    0    1        1      2         2  0   \n",
      "17    0  55.083333       3  144    0    1        1      0         2  0   \n",
      "18    1  38.916667       1   15    0    1        1      3         2  0   \n",
      "19    1  56.083333       3   36    0    3       -2      0         2  0   \n",
      "20    1  46.416667       4   15    0    1       -1      0         2  1   \n",
      "21    1  30.583333       2   12    0    1        0      0         2  0   \n",
      "22    0  24.416667       1   48    0    1        1      0         1  0   \n",
      "23    1  31.500000       3  144    0    1        1      2         2  1   \n",
      "24    1  43.750000       2   60    3    3        1      2         2  1   \n",
      "25    0  26.666667       5   25    0    1        1      3         2  0   \n",
      "26    0  52.333333       5  408    0    1       -1      0         0  0   \n",
      "27    0  59.166667       2  108    1    1       -1      0         2  0   \n",
      "28    1  23.916667       1   36    3    1        1      1         2  1   \n",
      "29    1  35.333333       2   86    0    1        1      3         2  0   \n",
      "30    0  40.833333       3   12    0    1        1      1         2  0   \n",
      "31    1  56.916667       2   24    1    1        1      0         2  0   \n",
      "32    1  30.250000       3    6    3    3        1      0         2  0   \n",
      "33    0  46.583333       2  324    2    3        1      0         2  0   \n",
      "34    0  30.166667       3   79    0    2        1      1         0  0   \n",
      "35    0  53.583333       2  240    0    1        0      0         2  0   \n",
      "36    1  33.750000       3  110    0    1        1      1         2  0   \n",
      "37    1  29.666667       1   45    0    1        0      0         2  1   \n",
      "38    1  32.666667       2   13    4    1        1      2         2  0   \n",
      "39    1  29.583333       4   96    0    3        1      2         2  0   \n",
      "40    0  61.166667       3   84    0    1       -1      0         2  0   \n",
      "41    1  41.416667       1    5    0    1        1      1         2  1   \n",
      "42    0  46.833333       3   13    0    1        1      0         2  0   \n",
      "43    1  23.333333       2   36    0    1        0      0         2  0   \n",
      "44    1  22.666667       4    4    0    1        0      0         0  1   \n",
      "45    1  29.333333       3  110    0    3        1      1         2  0   \n",
      "46    0  32.666667       4   48    0    1        1      2         2  0   \n",
      "47    0  43.083333       5   24    0    3        1      0         2  0   \n",
      "48    0  30.916667       1   98    0    1       -1      2         2  0   \n",
      "49    1  25.666667       2   12    0    1       -2      1         0  0   \n",
      "\n",
      "    status  T  U  V  W  X  MARKER  \n",
      "0        4  1  1  0  1  0       0  \n",
      "1        4  1  1  1  1  0       0  \n",
      "2        3  0  1  0  1  0       0  \n",
      "3        3  1  1  2  1  0       0  \n",
      "4        3  1  0  0  0  0       0  \n",
      "5        4  0  1  1  1  0       0  \n",
      "6        4  1  1  0  1  0       0  \n",
      "7        3  1  0  0  1  0       0  \n",
      "8        3  0  1  0  1  0       0  \n",
      "9        2  1  1  0  0  0       0  \n",
      "10       4  0  1  0  1  0       0  \n",
      "11       4  1  1  0  1  0       0  \n",
      "12       4  1  1  0  0  0       0  \n",
      "13       4  0  1  0  1  0       0  \n",
      "14       4  1  1  1  1  0       0  \n",
      "15       0  1  1  1  0  0       0  \n",
      "16       0  1  1  0  1  0       0  \n",
      "17       4  1  1  1  0  0       0  \n",
      "18       4  1  1  0  0  0       0  \n",
      "19       3  1  1  1  0  0       0  \n",
      "20       3  1  1  0  1  0       0  \n",
      "21       3  1  1  0  1  0       0  \n",
      "22       4  1  1  0  0  0       0  \n",
      "23       0  1  1  0  0  0       0  \n",
      "24       4  1  1  0  0  0       0  \n",
      "25       4  0  1  1  0  0       1  \n",
      "26       3  1  1  2  0  0       0  \n",
      "27       3  1  0  0  0  0       0  \n",
      "28       0  0  1  0  0  0       0  \n",
      "29       0  1  1  0  1  0       0  \n",
      "30       4  1  0  1  1  0       0  \n",
      "31       4  1  1  0  0  0       0  \n",
      "32       4  1  1  0  0  0       0  \n",
      "33       4  1  1  1  0  0       0  \n",
      "34       4  1  1  0  1  0       0  \n",
      "35       3  1  1  0  1  0       0  \n",
      "36       4  1  1  0  1  0       0  \n",
      "37       3  1  1  1  1  0       0  \n",
      "38       0  1  1  0  0  0       0  \n",
      "39       4  1  1  0  0  0       0  \n",
      "40       3  1  1  0  1  1       0  \n",
      "41       4  0  1  1  1  0       0  \n",
      "42       4  1  0  1  1  0       0  \n",
      "43       3  1  1  0  1  0       0  \n",
      "44       3  1  1  0  0  0       0  \n",
      "45       0  0  1  1  1  0       0  \n",
      "46       4  1  1  0  0  0       0  \n",
      "47       2  1  1  1  1  0       0  \n",
      "48       3  1  1  0  1  0       0  \n",
      "49       3  1  0  1  1  0       0  \n"
     ]
    }
   ],
   "source": [
    "pd.set_option('display.max_columns', None)\n",
    "print(df.head(50))"
   ],
   "metadata": {
    "collapsed": false,
    "ExecuteTime": {
     "end_time": "2023-08-07T12:50:48.928974200Z",
     "start_time": "2023-08-07T12:50:48.915881700Z"
    }
   },
   "id": "dd8607466941a278"
  },
  {
   "cell_type": "markdown",
   "source": [
    "#### Визуализация распределения целевого признака"
   ],
   "metadata": {
    "collapsed": false
   },
   "id": "5a555fbf91d8b208"
  },
  {
   "cell_type": "code",
   "execution_count": 109,
   "outputs": [
    {
     "data": {
      "text/plain": "<Figure size 640x480 with 1 Axes>",
      "image/png": "[encoded data removed]"
     },
     "metadata": {},
     "output_type": "display_data"
    }
   ],
   "source": [
    "sns.countplot(df['MARKER'])\n",
    "plt.title('Распределение целевого признака')\n",
    "plt.show()"
   ],
   "metadata": {
    "collapsed": false,
    "ExecuteTime": {
     "end_time": "2023-08-07T12:50:49.000394400Z",
     "start_time": "2023-08-07T12:50:48.927133100Z"
    }
   },
   "id": "c00484c0777a1cf0"
  },
  {
   "cell_type": "markdown",
   "source": [
    "#### Видно сильный дисбаланс классов - применим SMOTE"
   ],
   "metadata": {
    "collapsed": false
   },
   "id": "35a9d6cd0f3a4262"
  },
  {
   "cell_type": "code",
   "execution_count": 110,
   "outputs": [],
   "source": [
    "smote = SMOTE()\n",
    "\n",
    "X = df.drop('MARKER', axis=1)\n",
    "y = df['MARKER']\n",
    "\n",
    "X, y = smote.fit_resample(X, y)"
   ],
   "metadata": {
    "collapsed": false,
    "ExecuteTime": {
     "end_time": "2023-08-07T12:50:49.089131200Z",
     "start_time": "2023-08-07T12:50:49.000394400Z"
    }
   },
   "id": "9a8e5497feb0c68c"
  },
  {
   "cell_type": "markdown",
   "source": [
    "#### Разбиваем выборку на train и test"
   ],
   "metadata": {
    "collapsed": false
   },
   "id": "e7266cbcaa3b9815"
  },
  {
   "cell_type": "code",
   "execution_count": 111,
   "outputs": [],
   "source": [
    "X_train, X_test, y_train, y_test = train_test_split(X, y, test_size=0.2, random_state=42)"
   ],
   "metadata": {
    "collapsed": false,
    "ExecuteTime": {
     "end_time": "2023-08-07T12:50:49.147373700Z",
     "start_time": "2023-08-07T12:50:49.089131200Z"
    }
   },
   "id": "b3bc9904e2de6da9"
  },
  {
   "cell_type": "markdown",
   "source": [
    "#### Обучаем логистическую регрессию"
   ],
   "metadata": {
    "collapsed": false
   },
   "id": "dd09d0abf9c9c95d"
  },
  {
   "cell_type": "code",
   "execution_count": 112,
   "outputs": [
    {
     "data": {
      "text/plain": "LogisticRegression(max_iter=1000)",
      "text/html": "<style>#sk-container-id-4 {color: black;}#sk-container-id-4 pre{padding: 0;}#sk-container-id-4 div.sk-toggleable {background-color: white;}#sk-container-id-4 label.sk-toggleable__label {cursor: pointer;display: block;width: 100%;margin-bottom: 0;padding: 0.3em;box-sizing: border-box;text-align: center;}#sk-container-id-4 label.sk-toggleable__label-arrow:before {content: \"▸\";float: left;margin-right: 0.25em;color: #696969;}#sk-container-id-4 label.sk-toggleable__label-arrow:hover:before {color: black;}#sk-container-id-4 div.sk-estimator:hover label.sk-toggleable__label-arrow:before {color: black;}#sk-container-id-4 div.sk-toggleable__content {max-height: 0;max-width: 0;overflow: hidden;text-align: left;background-color: #f0f8ff;}#sk-container-id-4 div.sk-toggleable__content pre {margin: 0.2em;color: black;border-radius: 0.25em;background-color: #f0f8ff;}#sk-container-id-4 input.sk-toggleable__control:checked~div.sk-toggleable__content {max-height: 200px;max-width: 100%;overflow: auto;}#sk-container-id-4 input.sk-toggleable__control:checked~label.sk-toggleable__label-arrow:before {content: \"▾\";}#sk-container-id-4 div.sk-estimator input.sk-toggleable__control:checked~label.sk-toggleable__label {background-color: #d4ebff;}#sk-container-id-4 div.sk-label input.sk-toggleable__control:checked~label.sk-toggleable__label {background-color: #d4ebff;}#sk-container-id-4 input.sk-hidden--visually {border: 0;clip: rect(1px 1px 1px 1px);clip: rect(1px, 1px, 1px, 1px);height: 1px;margin: -1px;overflow: hidden;padding: 0;position: absolute;width: 1px;}#sk-container-id-4 div.sk-estimator {font-family: monospace;background-color: #f0f8ff;border: 1px dotted black;border-radius: 0.25em;box-sizing: border-box;margin-bottom: 0.5em;}#sk-container-id-4 div.sk-estimator:hover {background-color: #d4ebff;}#sk-container-id-4 div.sk-parallel-item::after {content: \"\";width: 100%;border-bottom: 1px solid gray;flex-grow: 1;}#sk-container-id-4 div.sk-label:hover label.sk-toggleable__label {background-color: #d4ebff;}#sk-container-id-4 div.sk-serial::before {content: \"\";position: absolute;border-left: 1px solid gray;box-sizing: border-box;top: 0;bottom: 0;left: 50%;z-index: 0;}#sk-container-id-4 div.sk-serial {display: flex;flex-direction: column;align-items: center;background-color: white;padding-right: 0.2em;padding-left: 0.2em;position: relative;}#sk-container-id-4 div.sk-item {position: relative;z-index: 1;}#sk-container-id-4 div.sk-parallel {display: flex;align-items: stretch;justify-content: center;background-color: white;position: relative;}#sk-container-id-4 div.sk-item::before, #sk-container-id-4 div.sk-parallel-item::before {content: \"\";position: absolute;border-left: 1px solid gray;box-sizing: border-box;top: 0;bottom: 0;left: 50%;z-index: -1;}#sk-container-id-4 div.sk-parallel-item {display: flex;flex-direction: column;z-index: 1;position: relative;background-color: white;}#sk-container-id-4 div.sk-parallel-item:first-child::after {align-self: flex-end;width: 50%;}#sk-container-id-4 div.sk-parallel-item:last-child::after {align-self: flex-start;width: 50%;}#sk-container-id-4 div.sk-parallel-item:only-child::after {width: 0;}#sk-container-id-4 div.sk-dashed-wrapped {border: 1px dashed gray;margin: 0 0.4em 0.5em 0.4em;box-sizing: border-box;padding-bottom: 0.4em;background-color: white;}#sk-container-id-4 div.sk-label label {font-family: monospace;font-weight: bold;display: inline-block;line-height: 1.2em;}#sk-container-id-4 div.sk-label-container {text-align: center;}#sk-container-id-4 div.sk-container {/* jupyter's `normalize.less` sets `[hidden] { display: none; }` but bootstrap.min.css set `[hidden] { display: none !important; }` so we also need the `!important` here to be able to override the default hidden behavior on the sphinx rendered scikit-learn.org. See: https://github.com/scikit-learn/scikit-learn/issues/21755 */display: inline-block !important;position: relative;}#sk-container-id-4 div.sk-text-repr-fallback {display: none;}</style><div id=\"sk-container-id-4\" class=\"sk-top-container\"><div class=\"sk-text-repr-fallback\"><pre>LogisticRegression(max_iter=1000)</pre><b>In a Jupyter environment, please rerun this cell to show the HTML representation or trust the notebook. <br />On GitHub, the HTML representation is unable to render, please try loading this page with nbviewer.org.</b></div><div class=\"sk-container\" hidden><div class=\"sk-item\"><div class=\"sk-estimator sk-toggleable\"><input class=\"sk-toggleable__control sk-hidden--visually\" id=\"sk-estimator-id-4\" type=\"checkbox\" checked><label for=\"sk-estimator-id-4\" class=\"sk-toggleable__label sk-toggleable__label-arrow\">LogisticRegression</label><div class=\"sk-toggleable__content\"><pre>LogisticRegression(max_iter=1000)</pre></div></div></div></div></div>"
     },
     "execution_count": 112,
     "metadata": {},
     "output_type": "execute_result"
    }
   ],
   "source": [
    "log_reg = LogisticRegression(max_iter=1000)\n",
    "log_reg.fit(X_train, y_train)"
   ],
   "metadata": {
    "collapsed": false,
    "ExecuteTime": {
     "end_time": "2023-08-07T12:50:54.538093700Z",
     "start_time": "2023-08-07T12:50:49.148876300Z"
    }
   },
   "id": "845c7133cb25da94"
  },
  {
   "cell_type": "markdown",
   "source": [
    "#### Оценка на train"
   ],
   "metadata": {
    "collapsed": false
   },
   "id": "2085b490843bc881"
  },
  {
   "cell_type": "code",
   "execution_count": 113,
   "outputs": [
    {
     "name": "stdout",
     "output_type": "stream",
     "text": [
      "[[60067 11457]\n",
      " [10720 60783]]\n",
      "              precision    recall  f1-score   support\n",
      "\n",
      "           0       0.85      0.84      0.84     71524\n",
      "           1       0.84      0.85      0.85     71503\n",
      "\n",
      "    accuracy                           0.84    143027\n",
      "   macro avg       0.84      0.84      0.84    143027\n",
      "weighted avg       0.84      0.84      0.84    143027\n"
     ]
    }
   ],
   "source": [
    "y_pred = log_reg.predict(X_train)\n",
    "print(confusion_matrix(y_train, y_pred))\n",
    "print(classification_report(y_train, y_pred))"
   ],
   "metadata": {
    "collapsed": false,
    "ExecuteTime": {
     "end_time": "2023-08-07T12:50:54.724465300Z",
     "start_time": "2023-08-07T12:50:54.527590100Z"
    }
   },
   "id": "529bd340948ed09d"
  },
  {
   "cell_type": "markdown",
   "source": [
    "#### Оценка на test"
   ],
   "metadata": {
    "collapsed": false
   },
   "id": "a8c505ec78660357"
  },
  {
   "cell_type": "code",
   "execution_count": 114,
   "outputs": [
    {
     "name": "stdout",
     "output_type": "stream",
     "text": [
      "[[15002  2866]\n",
      " [ 2699 15190]]\n",
      "              precision    recall  f1-score   support\n",
      "\n",
      "           0       0.85      0.84      0.84     17868\n",
      "           1       0.84      0.85      0.85     17889\n",
      "\n",
      "    accuracy                           0.84     35757\n",
      "   macro avg       0.84      0.84      0.84     35757\n",
      "weighted avg       0.84      0.84      0.84     35757\n"
     ]
    }
   ],
   "source": [
    "y_pred = log_reg.predict(X_test)\n",
    "print(confusion_matrix(y_test, y_pred))\n",
    "print(classification_report(y_test, y_pred))"
   ],
   "metadata": {
    "collapsed": false,
    "ExecuteTime": {
     "end_time": "2023-08-07T12:50:54.761820200Z",
     "start_time": "2023-08-07T12:50:54.715463400Z"
    }
   },
   "id": "64175f6cdd24555a"
  },
  {
   "cell_type": "markdown",
   "source": [
    "#### Поиск оптимальных гиперпараметров логистической регрессии"
   ],
   "metadata": {
    "collapsed": false
   },
   "id": "a163765026e2f62d"
  },
  {
   "cell_type": "code",
   "execution_count": 115,
   "outputs": [
    {
     "name": "stdout",
     "output_type": "stream",
     "text": [
      "{'C': 1}\n"
     ]
    }
   ],
   "source": [
    "params = {'C': [0.1, 1, 10, 100]}\n",
    "grid_search = GridSearchCV(log_reg, params, cv=5, n_jobs=-1)\n",
    "grid_search.fit(X_train, y_train)\n",
    "print(grid_search.best_params_)"
   ],
   "metadata": {
    "collapsed": false,
    "ExecuteTime": {
     "end_time": "2023-08-07T12:51:28.683119500Z",
     "start_time": "2023-08-07T12:51:00.565425200Z"
    }
   },
   "id": "36af5b6f7c554693"
  },
  {
   "cell_type": "markdown",
   "source": [
    "#### Обучаем лучшую модель на всей train выборке"
   ],
   "metadata": {
    "collapsed": false
   },
   "id": "6893f97cfdc272d4"
  },
  {
   "cell_type": "code",
   "execution_count": 118,
   "outputs": [],
   "source": [
    "from sklearn.preprocessing import StandardScaler\n",
    "from imblearn.under_sampling import RandomUnderSampler\n",
    "from sklearn.model_selection import cross_val_score\n",
    "from sklearn.model_selection import GridSearchCV"
   ],
   "metadata": {
    "collapsed": false,
    "ExecuteTime": {
     "end_time": "2023-08-07T12:53:30.637771100Z",
     "start_time": "2023-08-07T12:53:30.627264800Z"
    }
   },
   "id": "150de726e6925564"
  },
  {
   "cell_type": "code",
   "execution_count": 120,
   "outputs": [],
   "source": [
    "df = load_float_data()"
   ],
   "metadata": {
    "collapsed": false,
    "ExecuteTime": {
     "end_time": "2023-08-07T12:54:08.425747400Z",
     "start_time": "2023-08-07T12:53:58.249158900Z"
    }
   },
   "id": "e7ccd729994d0782"
  },
  {
   "cell_type": "code",
   "execution_count": 123,
   "outputs": [
    {
     "name": "stdout",
     "output_type": "stream",
     "text": [
      "{'C': 100, 'class_weight': 'balanced', 'penalty': 'l2'}\n",
      "0.9359354850222404\n"
     ]
    }
   ],
   "source": [
    "from imblearn.under_sampling import NearMiss\n",
    "\n",
    "# Ресэмплинг \n",
    "rus = NearMiss()\n",
    "X_rus, y_rus = rus.fit_resample(X, y)\n",
    "\n",
    "# Масштабирование\n",
    "scaler = StandardScaler()\n",
    "X_scaled = scaler.fit_transform(X_rus)\n",
    "\n",
    "# Логистическая регрессия\n",
    "log_reg = LogisticRegression(solver='liblinear') \n",
    "\n",
    "params = {\n",
    "  'C': [0.1, 1, 10, 100],\n",
    "  'penalty': ['l2'],\n",
    "  'class_weight': [None, 'balanced']  \n",
    "}\n",
    "\n",
    "# Поиск гиперпараметров\n",
    "grid_search = GridSearchCV(log_reg, param_grid=params, \n",
    "                           scoring='roc_auc', cv=5)\n",
    "\n",
    "grid_search.fit(X_scaled, y_rus)\n",
    "print(grid_search.best_params_)\n",
    "\n",
    "# Обучение модели \n",
    "best_log_reg = LogisticRegression(**grid_search.best_params_)\n",
    "\n",
    "# Кросс-валидация\n",
    "roc_auc = cross_val_score(best_log_reg, X_scaled, y_rus, \n",
    "                          cv=5, scoring='roc_auc').mean()\n",
    "print(roc_auc)"
   ],
   "metadata": {
    "collapsed": false,
    "ExecuteTime": {
     "end_time": "2023-08-07T13:28:43.826998900Z",
     "start_time": "2023-08-07T13:28:13.164726600Z"
    }
   },
   "id": "717b2c01228a0d6e"
  },
  {
   "cell_type": "code",
   "execution_count": 125,
   "outputs": [
    {
     "name": "stderr",
     "output_type": "stream",
     "text": [
      "C:\\Users\\artyo\\PycharmProjects\\alpha\\venv\\Lib\\site-packages\\sklearn\\linear_model\\_logistic.py:460: ConvergenceWarning: lbfgs failed to converge (status=1):\n",
      "STOP: TOTAL NO. of ITERATIONS REACHED LIMIT.\n",
      "\n",
      "Increase the number of iterations (max_iter) or scale the data as shown in:\n",
      "    https://scikit-learn.org/stable/modules/preprocessing.html\n",
      "Please also refer to the documentation for alternative solver options:\n",
      "    https://scikit-learn.org/stable/modules/linear_model.html#logistic-regression\n",
      "  n_iter_i = _check_optimize_result(\n"
     ]
    },
    {
     "data": {
      "text/plain": "LogisticRegression(C=100, class_weight='balanced')",
      "text/html": "<style>#sk-container-id-5 {color: black;}#sk-container-id-5 pre{padding: 0;}#sk-container-id-5 div.sk-toggleable {background-color: white;}#sk-container-id-5 label.sk-toggleable__label {cursor: pointer;display: block;width: 100%;margin-bottom: 0;padding: 0.3em;box-sizing: border-box;text-align: center;}#sk-container-id-5 label.sk-toggleable__label-arrow:before {content: \"▸\";float: left;margin-right: 0.25em;color: #696969;}#sk-container-id-5 label.sk-toggleable__label-arrow:hover:before {color: black;}#sk-container-id-5 div.sk-estimator:hover label.sk-toggleable__label-arrow:before {color: black;}#sk-container-id-5 div.sk-toggleable__content {max-height: 0;max-width: 0;overflow: hidden;text-align: left;background-color: #f0f8ff;}#sk-container-id-5 div.sk-toggleable__content pre {margin: 0.2em;color: black;border-radius: 0.25em;background-color: #f0f8ff;}#sk-container-id-5 input.sk-toggleable__control:checked~div.sk-toggleable__content {max-height: 200px;max-width: 100%;overflow: auto;}#sk-container-id-5 input.sk-toggleable__control:checked~label.sk-toggleable__label-arrow:before {content: \"▾\";}#sk-container-id-5 div.sk-estimator input.sk-toggleable__control:checked~label.sk-toggleable__label {background-color: #d4ebff;}#sk-container-id-5 div.sk-label input.sk-toggleable__control:checked~label.sk-toggleable__label {background-color: #d4ebff;}#sk-container-id-5 input.sk-hidden--visually {border: 0;clip: rect(1px 1px 1px 1px);clip: rect(1px, 1px, 1px, 1px);height: 1px;margin: -1px;overflow: hidden;padding: 0;position: absolute;width: 1px;}#sk-container-id-5 div.sk-estimator {font-family: monospace;background-color: #f0f8ff;border: 1px dotted black;border-radius: 0.25em;box-sizing: border-box;margin-bottom: 0.5em;}#sk-container-id-5 div.sk-estimator:hover {background-color: #d4ebff;}#sk-container-id-5 div.sk-parallel-item::after {content: \"\";width: 100%;border-bottom: 1px solid gray;flex-grow: 1;}#sk-container-id-5 div.sk-label:hover label.sk-toggleable__label {background-color: #d4ebff;}#sk-container-id-5 div.sk-serial::before {content: \"\";position: absolute;border-left: 1px solid gray;box-sizing: border-box;top: 0;bottom: 0;left: 50%;z-index: 0;}#sk-container-id-5 div.sk-serial {display: flex;flex-direction: column;align-items: center;background-color: white;padding-right: 0.2em;padding-left: 0.2em;position: relative;}#sk-container-id-5 div.sk-item {position: relative;z-index: 1;}#sk-container-id-5 div.sk-parallel {display: flex;align-items: stretch;justify-content: center;background-color: white;position: relative;}#sk-container-id-5 div.sk-item::before, #sk-container-id-5 div.sk-parallel-item::before {content: \"\";position: absolute;border-left: 1px solid gray;box-sizing: border-box;top: 0;bottom: 0;left: 50%;z-index: -1;}#sk-container-id-5 div.sk-parallel-item {display: flex;flex-direction: column;z-index: 1;position: relative;background-color: white;}#sk-container-id-5 div.sk-parallel-item:first-child::after {align-self: flex-end;width: 50%;}#sk-container-id-5 div.sk-parallel-item:last-child::after {align-self: flex-start;width: 50%;}#sk-container-id-5 div.sk-parallel-item:only-child::after {width: 0;}#sk-container-id-5 div.sk-dashed-wrapped {border: 1px dashed gray;margin: 0 0.4em 0.5em 0.4em;box-sizing: border-box;padding-bottom: 0.4em;background-color: white;}#sk-container-id-5 div.sk-label label {font-family: monospace;font-weight: bold;display: inline-block;line-height: 1.2em;}#sk-container-id-5 div.sk-label-container {text-align: center;}#sk-container-id-5 div.sk-container {/* jupyter's `normalize.less` sets `[hidden] { display: none; }` but bootstrap.min.css set `[hidden] { display: none !important; }` so we also need the `!important` here to be able to override the default hidden behavior on the sphinx rendered scikit-learn.org. See: https://github.com/scikit-learn/scikit-learn/issues/21755 */display: inline-block !important;position: relative;}#sk-container-id-5 div.sk-text-repr-fallback {display: none;}</style><div id=\"sk-container-id-5\" class=\"sk-top-container\"><div class=\"sk-text-repr-fallback\"><pre>LogisticRegression(C=100, class_weight=&#x27;balanced&#x27;)</pre><b>In a Jupyter environment, please rerun this cell to show the HTML representation or trust the notebook. <br />On GitHub, the HTML representation is unable to render, please try loading this page with nbviewer.org.</b></div><div class=\"sk-container\" hidden><div class=\"sk-item\"><div class=\"sk-estimator sk-toggleable\"><input class=\"sk-toggleable__control sk-hidden--visually\" id=\"sk-estimator-id-5\" type=\"checkbox\" checked><label for=\"sk-estimator-id-5\" class=\"sk-toggleable__label sk-toggleable__label-arrow\">LogisticRegression</label><div class=\"sk-toggleable__content\"><pre>LogisticRegression(C=100, class_weight=&#x27;balanced&#x27;)</pre></div></div></div></div></div>"
     },
     "execution_count": 125,
     "metadata": {},
     "output_type": "execute_result"
    }
   ],
   "source": [
    "best_log_reg.fit(X_train, y_train)"
   ],
   "metadata": {
    "collapsed": false,
    "ExecuteTime": {
     "end_time": "2023-08-07T14:08:58.127539100Z",
     "start_time": "2023-08-07T14:08:57.023394600Z"
    }
   },
   "id": "44b655f33b78b112"
  },
  {
   "cell_type": "code",
   "execution_count": 126,
   "outputs": [
    {
     "name": "stdout",
     "output_type": "stream",
     "text": [
      "ROC AUC: 0.750\n",
      "accuracy_score: 0.750\n",
      "Precision: 0.741\n",
      "Recall: 0.768\n"
     ]
    }
   ],
   "source": [
    "# Предсказания на тестовой выборке\n",
    "y_pred = best_log_reg.predict(X_test)\n",
    "\n",
    "# Оценка качества\n",
    "from sklearn.metrics import roc_auc_score\n",
    "test_auc = roc_auc_score(y_test, y_pred)\n",
    "print(f'ROC AUC: {test_auc:.3f}')\n",
    "\n",
    "from sklearn.metrics import accuracy_score\n",
    "test_accuracy = accuracy_score(y_test, y_pred)\n",
    "print(f'accuracy_score: {test_accuracy:.3f}')\n",
    "\n",
    "from sklearn.metrics import precision_score, recall_score\n",
    "test_precision = precision_score(y_test, y_pred)\n",
    "test_recall = recall_score(y_test, y_pred)\n",
    "print(f'Precision: {test_precision:.3f}')\n",
    "print(f'Recall: {test_recall:.3f}')"
   ],
   "metadata": {
    "collapsed": false,
    "ExecuteTime": {
     "end_time": "2023-08-07T14:09:01.139809100Z",
     "start_time": "2023-08-07T14:09:01.101379300Z"
    }
   },
   "id": "88935d39ab805503"
  },
  {
   "cell_type": "markdown",
   "source": [
    "# RandomForestClassifier"
   ],
   "metadata": {
    "collapsed": false
   },
   "id": "2d4eb7a4b89f0916"
  },
  {
   "cell_type": "code",
   "execution_count": 135,
   "outputs": [],
   "source": [
    "df = load_float_data()\n",
    "\n",
    "X = df.drop('MARKER', axis=1)\n",
    "y = df['MARKER']\n",
    "\n",
    "X_train, X_test, y_train, y_test = train_test_split(X, y, test_size=0.2)\n"
   ],
   "metadata": {
    "collapsed": false,
    "ExecuteTime": {
     "end_time": "2023-08-07T14:44:36.314769500Z",
     "start_time": "2023-08-07T14:44:24.523087Z"
    }
   },
   "id": "4e0c5b28542d6cba"
  },
  {
   "cell_type": "code",
   "execution_count": 136,
   "outputs": [],
   "source": [
    "# Балансировка классов\n",
    "from imblearn.over_sampling import SMOTE\n",
    "smote = SMOTE(sampling_strategy=1.0)\n",
    "X_train, y_train = smote.fit_resample(X_train, y_train)"
   ],
   "metadata": {
    "collapsed": false,
    "ExecuteTime": {
     "end_time": "2023-08-07T14:44:36.417700Z",
     "start_time": "2023-08-07T14:44:36.313768600Z"
    }
   },
   "id": "5fae79194e4ce2f2"
  },
  {
   "cell_type": "code",
   "execution_count": 137,
   "outputs": [],
   "source": [
    "# Масштабирование \n",
    "from sklearn.preprocessing import StandardScaler\n",
    "scaler = StandardScaler()\n",
    "X_train = scaler.fit_transform(X_train)\n",
    "X_test = scaler.transform(X_test)\n"
   ],
   "metadata": {
    "collapsed": false,
    "ExecuteTime": {
     "end_time": "2023-08-07T14:44:36.486477100Z",
     "start_time": "2023-08-07T14:44:36.413699300Z"
    }
   },
   "id": "11d175dba781b883"
  },
  {
   "cell_type": "code",
   "execution_count": 138,
   "outputs": [],
   "source": [
    "# Случайный лес\n",
    "from sklearn.ensemble import RandomForestClassifier\n",
    "rf = RandomForestClassifier()\n",
    "\n"
   ],
   "metadata": {
    "collapsed": false,
    "ExecuteTime": {
     "end_time": "2023-08-07T14:44:36.487981100Z",
     "start_time": "2023-08-07T14:44:36.486089Z"
    }
   },
   "id": "3bef9b121dadf45c"
  },
  {
   "cell_type": "code",
   "execution_count": 139,
   "outputs": [],
   "source": [
    "\n",
    "# Поиск гиперпараметров\n",
    "from sklearn.model_selection import GridSearchCV\n",
    "\n",
    "params = {\n",
    "    'n_estimators': [100, 200, 500],\n",
    "    'max_depth': [5, 8, 15]\n",
    "}\n",
    "\n"
   ],
   "metadata": {
    "collapsed": false,
    "ExecuteTime": {
     "end_time": "2023-08-07T14:44:36.497283Z",
     "start_time": "2023-08-07T14:44:36.487981100Z"
    }
   },
   "id": "d6b332916280a37"
  },
  {
   "cell_type": "code",
   "execution_count": 140,
   "outputs": [
    {
     "name": "stdout",
     "output_type": "stream",
     "text": [
      "Лучшие параметры: {'max_depth': 15, 'n_estimators': 500}\n"
     ]
    }
   ],
   "source": [
    "grid_search = GridSearchCV(rf, param_grid=params, \n",
    "                           scoring='roc_auc', cv=5)\n",
    "grid_search.fit(X_train, y_train)\n",
    "\n",
    "print('Лучшие параметры:', grid_search.best_params_)"
   ],
   "metadata": {
    "collapsed": false,
    "ExecuteTime": {
     "end_time": "2023-08-07T15:26:04.183786400Z",
     "start_time": "2023-08-07T14:44:36.494282200Z"
    }
   },
   "id": "e19dc6c9adf5864f"
  },
  {
   "cell_type": "code",
   "execution_count": 141,
   "outputs": [
    {
     "data": {
      "text/plain": "RandomForestClassifier(max_depth=15, n_estimators=500)",
      "text/html": "<style>#sk-container-id-6 {color: black;}#sk-container-id-6 pre{padding: 0;}#sk-container-id-6 div.sk-toggleable {background-color: white;}#sk-container-id-6 label.sk-toggleable__label {cursor: pointer;display: block;width: 100%;margin-bottom: 0;padding: 0.3em;box-sizing: border-box;text-align: center;}#sk-container-id-6 label.sk-toggleable__label-arrow:before {content: \"▸\";float: left;margin-right: 0.25em;color: #696969;}#sk-container-id-6 label.sk-toggleable__label-arrow:hover:before {color: black;}#sk-container-id-6 div.sk-estimator:hover label.sk-toggleable__label-arrow:before {color: black;}#sk-container-id-6 div.sk-toggleable__content {max-height: 0;max-width: 0;overflow: hidden;text-align: left;background-color: #f0f8ff;}#sk-container-id-6 div.sk-toggleable__content pre {margin: 0.2em;color: black;border-radius: 0.25em;background-color: #f0f8ff;}#sk-container-id-6 input.sk-toggleable__control:checked~div.sk-toggleable__content {max-height: 200px;max-width: 100%;overflow: auto;}#sk-container-id-6 input.sk-toggleable__control:checked~label.sk-toggleable__label-arrow:before {content: \"▾\";}#sk-container-id-6 div.sk-estimator input.sk-toggleable__control:checked~label.sk-toggleable__label {background-color: #d4ebff;}#sk-container-id-6 div.sk-label input.sk-toggleable__control:checked~label.sk-toggleable__label {background-color: #d4ebff;}#sk-container-id-6 input.sk-hidden--visually {border: 0;clip: rect(1px 1px 1px 1px);clip: rect(1px, 1px, 1px, 1px);height: 1px;margin: -1px;overflow: hidden;padding: 0;position: absolute;width: 1px;}#sk-container-id-6 div.sk-estimator {font-family: monospace;background-color: #f0f8ff;border: 1px dotted black;border-radius: 0.25em;box-sizing: border-box;margin-bottom: 0.5em;}#sk-container-id-6 div.sk-estimator:hover {background-color: #d4ebff;}#sk-container-id-6 div.sk-parallel-item::after {content: \"\";width: 100%;border-bottom: 1px solid gray;flex-grow: 1;}#sk-container-id-6 div.sk-label:hover label.sk-toggleable__label {background-color: #d4ebff;}#sk-container-id-6 div.sk-serial::before {content: \"\";position: absolute;border-left: 1px solid gray;box-sizing: border-box;top: 0;bottom: 0;left: 50%;z-index: 0;}#sk-container-id-6 div.sk-serial {display: flex;flex-direction: column;align-items: center;background-color: white;padding-right: 0.2em;padding-left: 0.2em;position: relative;}#sk-container-id-6 div.sk-item {position: relative;z-index: 1;}#sk-container-id-6 div.sk-parallel {display: flex;align-items: stretch;justify-content: center;background-color: white;position: relative;}#sk-container-id-6 div.sk-item::before, #sk-container-id-6 div.sk-parallel-item::before {content: \"\";position: absolute;border-left: 1px solid gray;box-sizing: border-box;top: 0;bottom: 0;left: 50%;z-index: -1;}#sk-container-id-6 div.sk-parallel-item {display: flex;flex-direction: column;z-index: 1;position: relative;background-color: white;}#sk-container-id-6 div.sk-parallel-item:first-child::after {align-self: flex-end;width: 50%;}#sk-container-id-6 div.sk-parallel-item:last-child::after {align-self: flex-start;width: 50%;}#sk-container-id-6 div.sk-parallel-item:only-child::after {width: 0;}#sk-container-id-6 div.sk-dashed-wrapped {border: 1px dashed gray;margin: 0 0.4em 0.5em 0.4em;box-sizing: border-box;padding-bottom: 0.4em;background-color: white;}#sk-container-id-6 div.sk-label label {font-family: monospace;font-weight: bold;display: inline-block;line-height: 1.2em;}#sk-container-id-6 div.sk-label-container {text-align: center;}#sk-container-id-6 div.sk-container {/* jupyter's `normalize.less` sets `[hidden] { display: none; }` but bootstrap.min.css set `[hidden] { display: none !important; }` so we also need the `!important` here to be able to override the default hidden behavior on the sphinx rendered scikit-learn.org. See: https://github.com/scikit-learn/scikit-learn/issues/21755 */display: inline-block !important;position: relative;}#sk-container-id-6 div.sk-text-repr-fallback {display: none;}</style><div id=\"sk-container-id-6\" class=\"sk-top-container\"><div class=\"sk-text-repr-fallback\"><pre>RandomForestClassifier(max_depth=15, n_estimators=500)</pre><b>In a Jupyter environment, please rerun this cell to show the HTML representation or trust the notebook. <br />On GitHub, the HTML representation is unable to render, please try loading this page with nbviewer.org.</b></div><div class=\"sk-container\" hidden><div class=\"sk-item\"><div class=\"sk-estimator sk-toggleable\"><input class=\"sk-toggleable__control sk-hidden--visually\" id=\"sk-estimator-id-6\" type=\"checkbox\" checked><label for=\"sk-estimator-id-6\" class=\"sk-toggleable__label sk-toggleable__label-arrow\">RandomForestClassifier</label><div class=\"sk-toggleable__content\"><pre>RandomForestClassifier(max_depth=15, n_estimators=500)</pre></div></div></div></div></div>"
     },
     "execution_count": 141,
     "metadata": {},
     "output_type": "execute_result"
    }
   ],
   "source": [
    "# Обучение лучшей модели\n",
    "best_rf = grid_search.best_estimator_\n",
    "best_rf.fit(X_train, y_train)"
   ],
   "metadata": {
    "collapsed": false,
    "ExecuteTime": {
     "end_time": "2023-08-07T15:28:57.781583Z",
     "start_time": "2023-08-07T15:26:04.185372700Z"
    }
   },
   "id": "c6275509bb12c2e9"
  },
  {
   "cell_type": "code",
   "execution_count": 142,
   "outputs": [
    {
     "name": "stdout",
     "output_type": "stream",
     "text": [
      "ROC AUC: 0.584\n",
      "Accuracy: 0.979\n",
      "Precision: 0.038\n",
      "Recall: 0.186\n"
     ]
    }
   ],
   "source": [
    "# Предсказания на тесте \n",
    "y_pred = best_rf.predict(X_test)\n",
    "\n",
    "# Метрики\n",
    "from sklearn.metrics import accuracy_score, precision_score, recall_score, roc_auc_score\n",
    "\n",
    "auc = roc_auc_score(y_test, y_pred)\n",
    "acc = accuracy_score(y_test, y_pred) \n",
    "precision = precision_score(y_test, y_pred)\n",
    "recall = recall_score(y_test, y_pred)\n",
    "\n",
    "print(f'ROC AUC: {auc:.3f}')\n",
    "print(f'Accuracy: {acc:.3f}') \n",
    "print(f'Precision: {precision:.3f}')\n",
    "print(f'Recall: {recall:.3f}')"
   ],
   "metadata": {
    "collapsed": false,
    "ExecuteTime": {
     "end_time": "2023-08-07T15:28:58.466326Z",
     "start_time": "2023-08-07T15:28:57.782333700Z"
    }
   },
   "id": "eedc823415df1a32"
  },
  {
   "cell_type": "markdown",
   "source": [
    "\n",
    "# XGBoost"
   ],
   "metadata": {
    "collapsed": false
   },
   "id": "45c870fe63901bb5"
  },
  {
   "cell_type": "code",
   "execution_count": 88,
   "outputs": [],
   "source": [
    "df = load_float_data()\n",
    "\n",
    "X = df.drop('MARKER', axis=1)\n",
    "y = df['MARKER']\n"
   ],
   "metadata": {
    "collapsed": false,
    "ExecuteTime": {
     "end_time": "2023-08-07T12:23:11.203042200Z",
     "start_time": "2023-08-07T12:23:00.786981500Z"
    }
   },
   "id": "c16557c5c905e163"
  },
  {
   "cell_type": "code",
   "execution_count": 89,
   "outputs": [],
   "source": [
    "X_train, X_test, y_train, y_test = train_test_split(X, y, test_size=0.2, random_state=42)\n",
    "\n",
    "# Ресэмплинг\n",
    "resampler = SMOTETomek(sampling_strategy='auto')\n",
    "X_res, y_res = resampler.fit_resample(X_train, y_train)\n",
    "\n",
    "# Масштабирование данных\n",
    "scaler = StandardScaler()\n",
    "X_scaled = scaler.fit_transform(X_res)"
   ],
   "metadata": {
    "collapsed": false,
    "ExecuteTime": {
     "end_time": "2023-08-07T12:23:32.480266200Z",
     "start_time": "2023-08-07T12:23:16.537066Z"
    }
   },
   "id": "8fa799ec78550724"
  },
  {
   "cell_type": "code",
   "execution_count": null,
   "outputs": [],
   "source": [],
   "metadata": {
    "collapsed": false
   },
   "id": "e6bd4e751378e833"
  },
  {
   "cell_type": "code",
   "execution_count": 90,
   "outputs": [],
   "source": [
    "# XGBoost\n",
    "import xgboost as xgb\n",
    "xgb = xgb.XGBClassifier()\n",
    "\n",
    "params = {\n",
    "  'max_depth': [5, 8, 12],\n",
    "  'n_estimators': [100, 200, 500],\n",
    "  'learning_rate': [0.05, 0.1, 0.2]\n",
    "}"
   ],
   "metadata": {
    "collapsed": false,
    "ExecuteTime": {
     "end_time": "2023-08-07T12:23:35.024973900Z",
     "start_time": "2023-08-07T12:23:35.022033400Z"
    }
   },
   "id": "53016a383aaf991a"
  },
  {
   "cell_type": "code",
   "execution_count": 91,
   "outputs": [
    {
     "name": "stdout",
     "output_type": "stream",
     "text": [
      "{'learning_rate': 0.2, 'max_depth': 8, 'n_estimators': 200}\n"
     ]
    }
   ],
   "source": [
    "from sklearn.model_selection import GridSearchCV\n",
    "grid_search = GridSearchCV(xgb, param_grid=params, scoring='roc_auc', cv=5)\n",
    "grid_search.fit(X_scaled, y_res)\n",
    "\n",
    "print(grid_search.best_params_)"
   ],
   "metadata": {
    "collapsed": false,
    "ExecuteTime": {
     "end_time": "2023-08-07T12:45:58.100656200Z",
     "start_time": "2023-08-07T12:23:40.621640800Z"
    }
   },
   "id": "b754db9731f7d39f"
  },
  {
   "cell_type": "code",
   "execution_count": 92,
   "outputs": [
    {
     "data": {
      "text/plain": "XGBClassifier(base_score=None, booster=None, callbacks=None,\n              colsample_bylevel=None, colsample_bynode=None,\n              colsample_bytree=None, early_stopping_rounds=None,\n              enable_categorical=False, eval_metric=None, feature_types=None,\n              gamma=None, gpu_id=None, grow_policy=None, importance_type=None,\n              interaction_constraints=None, learning_rate=0.2, max_bin=None,\n              max_cat_threshold=None, max_cat_to_onehot=None,\n              max_delta_step=None, max_depth=8, max_leaves=None,\n              min_child_weight=None, missing=nan, monotone_constraints=None,\n              n_estimators=200, n_jobs=None, num_parallel_tree=None,\n              predictor=None, random_state=None, ...)",
      "text/html": "<style>#sk-container-id-3 {color: black;}#sk-container-id-3 pre{padding: 0;}#sk-container-id-3 div.sk-toggleable {background-color: white;}#sk-container-id-3 label.sk-toggleable__label {cursor: pointer;display: block;width: 100%;margin-bottom: 0;padding: 0.3em;box-sizing: border-box;text-align: center;}#sk-container-id-3 label.sk-toggleable__label-arrow:before {content: \"▸\";float: left;margin-right: 0.25em;color: #696969;}#sk-container-id-3 label.sk-toggleable__label-arrow:hover:before {color: black;}#sk-container-id-3 div.sk-estimator:hover label.sk-toggleable__label-arrow:before {color: black;}#sk-container-id-3 div.sk-toggleable__content {max-height: 0;max-width: 0;overflow: hidden;text-align: left;background-color: #f0f8ff;}#sk-container-id-3 div.sk-toggleable__content pre {margin: 0.2em;color: black;border-radius: 0.25em;background-color: #f0f8ff;}#sk-container-id-3 input.sk-toggleable__control:checked~div.sk-toggleable__content {max-height: 200px;max-width: 100%;overflow: auto;}#sk-container-id-3 input.sk-toggleable__control:checked~label.sk-toggleable__label-arrow:before {content: \"▾\";}#sk-container-id-3 div.sk-estimator input.sk-toggleable__control:checked~label.sk-toggleable__label {background-color: #d4ebff;}#sk-container-id-3 div.sk-label input.sk-toggleable__control:checked~label.sk-toggleable__label {background-color: #d4ebff;}#sk-container-id-3 input.sk-hidden--visually {border: 0;clip: rect(1px 1px 1px 1px);clip: rect(1px, 1px, 1px, 1px);height: 1px;margin: -1px;overflow: hidden;padding: 0;position: absolute;width: 1px;}#sk-container-id-3 div.sk-estimator {font-family: monospace;background-color: #f0f8ff;border: 1px dotted black;border-radius: 0.25em;box-sizing: border-box;margin-bottom: 0.5em;}#sk-container-id-3 div.sk-estimator:hover {background-color: #d4ebff;}#sk-container-id-3 div.sk-parallel-item::after {content: \"\";width: 100%;border-bottom: 1px solid gray;flex-grow: 1;}#sk-container-id-3 div.sk-label:hover label.sk-toggleable__label {background-color: #d4ebff;}#sk-container-id-3 div.sk-serial::before {content: \"\";position: absolute;border-left: 1px solid gray;box-sizing: border-box;top: 0;bottom: 0;left: 50%;z-index: 0;}#sk-container-id-3 div.sk-serial {display: flex;flex-direction: column;align-items: center;background-color: white;padding-right: 0.2em;padding-left: 0.2em;position: relative;}#sk-container-id-3 div.sk-item {position: relative;z-index: 1;}#sk-container-id-3 div.sk-parallel {display: flex;align-items: stretch;justify-content: center;background-color: white;position: relative;}#sk-container-id-3 div.sk-item::before, #sk-container-id-3 div.sk-parallel-item::before {content: \"\";position: absolute;border-left: 1px solid gray;box-sizing: border-box;top: 0;bottom: 0;left: 50%;z-index: -1;}#sk-container-id-3 div.sk-parallel-item {display: flex;flex-direction: column;z-index: 1;position: relative;background-color: white;}#sk-container-id-3 div.sk-parallel-item:first-child::after {align-self: flex-end;width: 50%;}#sk-container-id-3 div.sk-parallel-item:last-child::after {align-self: flex-start;width: 50%;}#sk-container-id-3 div.sk-parallel-item:only-child::after {width: 0;}#sk-container-id-3 div.sk-dashed-wrapped {border: 1px dashed gray;margin: 0 0.4em 0.5em 0.4em;box-sizing: border-box;padding-bottom: 0.4em;background-color: white;}#sk-container-id-3 div.sk-label label {font-family: monospace;font-weight: bold;display: inline-block;line-height: 1.2em;}#sk-container-id-3 div.sk-label-container {text-align: center;}#sk-container-id-3 div.sk-container {/* jupyter's `normalize.less` sets `[hidden] { display: none; }` but bootstrap.min.css set `[hidden] { display: none !important; }` so we also need the `!important` here to be able to override the default hidden behavior on the sphinx rendered scikit-learn.org. See: https://github.com/scikit-learn/scikit-learn/issues/21755 */display: inline-block !important;position: relative;}#sk-container-id-3 div.sk-text-repr-fallback {display: none;}</style><div id=\"sk-container-id-3\" class=\"sk-top-container\"><div class=\"sk-text-repr-fallback\"><pre>XGBClassifier(base_score=None, booster=None, callbacks=None,\n              colsample_bylevel=None, colsample_bynode=None,\n              colsample_bytree=None, early_stopping_rounds=None,\n              enable_categorical=False, eval_metric=None, feature_types=None,\n              gamma=None, gpu_id=None, grow_policy=None, importance_type=None,\n              interaction_constraints=None, learning_rate=0.2, max_bin=None,\n              max_cat_threshold=None, max_cat_to_onehot=None,\n              max_delta_step=None, max_depth=8, max_leaves=None,\n              min_child_weight=None, missing=nan, monotone_constraints=None,\n              n_estimators=200, n_jobs=None, num_parallel_tree=None,\n              predictor=None, random_state=None, ...)</pre><b>In a Jupyter environment, please rerun this cell to show the HTML representation or trust the notebook. <br />On GitHub, the HTML representation is unable to render, please try loading this page with nbviewer.org.</b></div><div class=\"sk-container\" hidden><div class=\"sk-item\"><div class=\"sk-estimator sk-toggleable\"><input class=\"sk-toggleable__control sk-hidden--visually\" id=\"sk-estimator-id-3\" type=\"checkbox\" checked><label for=\"sk-estimator-id-3\" class=\"sk-toggleable__label sk-toggleable__label-arrow\">XGBClassifier</label><div class=\"sk-toggleable__content\"><pre>XGBClassifier(base_score=None, booster=None, callbacks=None,\n              colsample_bylevel=None, colsample_bynode=None,\n              colsample_bytree=None, early_stopping_rounds=None,\n              enable_categorical=False, eval_metric=None, feature_types=None,\n              gamma=None, gpu_id=None, grow_policy=None, importance_type=None,\n              interaction_constraints=None, learning_rate=0.2, max_bin=None,\n              max_cat_threshold=None, max_cat_to_onehot=None,\n              max_delta_step=None, max_depth=8, max_leaves=None,\n              min_child_weight=None, missing=nan, monotone_constraints=None,\n              n_estimators=200, n_jobs=None, num_parallel_tree=None,\n              predictor=None, random_state=None, ...)</pre></div></div></div></div></div>"
     },
     "execution_count": 92,
     "metadata": {},
     "output_type": "execute_result"
    }
   ],
   "source": [
    "best_params = grid_search.best_params_ \n",
    "from xgboost import XGBClassifier\n",
    "\n",
    "# создание модели \n",
    "best_xgb = XGBClassifier(**best_params)\n",
    "best_xgb.fit(X_scaled, y_res)"
   ],
   "metadata": {
    "collapsed": false,
    "ExecuteTime": {
     "end_time": "2023-08-07T12:47:48.973663300Z",
     "start_time": "2023-08-07T12:47:38.958623700Z"
    }
   },
   "id": "63ad12218d294819"
  },
  {
   "cell_type": "code",
   "execution_count": 94,
   "outputs": [],
   "source": [
    "X_test['child'] = X_test['child'].astype(int)"
   ],
   "metadata": {
    "collapsed": false,
    "ExecuteTime": {
     "end_time": "2023-08-07T12:48:09.999363400Z",
     "start_time": "2023-08-07T12:48:09.967788600Z"
    }
   },
   "id": "2a28d12c5bd9ea85"
  },
  {
   "cell_type": "code",
   "execution_count": 95,
   "outputs": [
    {
     "name": "stdout",
     "output_type": "stream",
     "text": [
      "ROC AUC на тесте: 0.620\n",
      "Точность на тесте: 0.679\n",
      "Precision: 0.006\n",
      "Recall: 0.559\n"
     ]
    }
   ],
   "source": [
    "# Предсказания на тестовой выборке\n",
    "y_pred = best_xgb.predict(X_test)\n",
    "\n",
    "# Оценка качества\n",
    "from sklearn.metrics import roc_auc_score\n",
    "test_auc = roc_auc_score(y_test, y_pred)\n",
    "print(f'ROC AUC: {test_auc:.3f}')\n",
    "\n",
    "from sklearn.metrics import accuracy_score\n",
    "test_accuracy = accuracy_score(y_test, y_pred)\n",
    "print(f'accuracy_score: {test_accuracy:.3f}')\n",
    "\n",
    "from sklearn.metrics import precision_score, recall_score\n",
    "test_precision = precision_score(y_test, y_pred)\n",
    "test_recall = recall_score(y_test, y_pred)\n",
    "print(f'Precision: {test_precision:.3f}')\n",
    "print(f'Recall: {test_recall:.3f}')\n",
    "    "
   ],
   "metadata": {
    "collapsed": false,
    "ExecuteTime": {
     "end_time": "2023-08-07T12:48:11.807262Z",
     "start_time": "2023-08-07T12:48:11.758959300Z"
    }
   },
   "id": "728343ad1892e9cf"
  },
  {
   "cell_type": "markdown",
   "source": [],
   "metadata": {
    "collapsed": false
   },
   "id": "96ebd60de4c3b073"
  },
  {
   "cell_type": "code",
   "execution_count": null,
   "outputs": [],
   "source": [],
   "metadata": {
    "collapsed": false
   },
   "id": "d2979035c0d713b2"
  }
 ],
 "metadata": {
  "kernelspec": {
   "display_name": "Python 3",
   "language": "python",
   "name": "python3"
  },
  "language_info": {
   "codemirror_mode": {
    "name": "ipython",
    "version": 2
   },
   "file_extension": ".py",
   "mimetype": "text/x-python",
   "name": "python",
   "nbconvert_exporter": "python",
   "pygments_lexer": "ipython2",
   "version": "2.7.6"
  }
 },
 "nbformat": 4,
 "nbformat_minor": 5
}
