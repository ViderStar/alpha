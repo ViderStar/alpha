{
 "cells": [
  {
   "cell_type": "markdown",
   "source": [
    "#### Импорт библиотек"
   ],
   "metadata": {
    "collapsed": false
   },
   "id": "68b821dc807c991d"
  },
  {
   "cell_type": "code",
   "execution_count": 16,
   "id": "initial_id",
   "metadata": {
    "collapsed": true,
    "ExecuteTime": {
     "end_time": "2023-08-04T16:53:37.115457Z",
     "start_time": "2023-08-04T16:53:37.115457Z"
    }
   },
   "outputs": [],
   "source": [
    "import pandas as pd\n",
    "import numpy as np\n",
    "import matplotlib.pyplot as plt\n",
    "import seaborn as sns\n",
    "\n",
    "from sklearn.linear_model import LogisticRegression\n",
    "from sklearn.tree import DecisionTreeClassifier\n",
    "from sklearn.ensemble import RandomForestClassifier, AdaBoostClassifier\n",
    "from sklearn.model_selection import train_test_split, GridSearchCV\n",
    "from sklearn.metrics import confusion_matrix, classification_report\n",
    "from sklearn.preprocessing import OneHotEncoder\n",
    "from imblearn.over_sampling import SMOTE"
   ]
  },
  {
   "cell_type": "markdown",
   "source": [
    "#### Загрузка данных"
   ],
   "metadata": {
    "collapsed": false
   },
   "id": "85f1775be0e481b4"
  },
  {
   "cell_type": "code",
   "execution_count": 63,
   "outputs": [],
   "source": [
    "df = pd.read_excel('training.xlsb', engine='pyxlsb')"
   ],
   "metadata": {
    "collapsed": false,
    "ExecuteTime": {
     "end_time": "2023-08-04T18:14:46.610487Z",
     "start_time": "2023-08-04T18:14:36.204731800Z"
    }
   },
   "id": "cbdc80895d9b8602"
  },
  {
   "cell_type": "code",
   "execution_count": 11,
   "outputs": [],
   "source": [
    "\n",
    "test = pd.read_excel('test.xlsb', engine='pyxlsb')"
   ],
   "metadata": {
    "collapsed": false,
    "ExecuteTime": {
     "end_time": "2023-08-04T16:51:09.842294400Z",
     "start_time": "2023-08-04T16:50:52.848273100Z"
    }
   },
   "id": "15ba28fd85adbcd7"
  },
  {
   "cell_type": "markdown",
   "source": [
    "#### Быстрый EDA"
   ],
   "metadata": {
    "collapsed": false
   },
   "id": "b558d047ca85a80a"
  },
  {
   "cell_type": "code",
   "execution_count": 21,
   "outputs": [
    {
     "name": "stdout",
     "output_type": "stream",
     "text": [
      "<bound method NDFrame.head of           ID         A         B       C       D         E         F   G  \\\n",
      "0          1  0.198778  0.099389    0.00  799.90  1.777556  0.888778  13   \n",
      "1          2  0.043000  0.021264   49.97  173.03  0.384511  0.190143  13   \n",
      "2          3  0.067073  0.067073    0.00  329.90  0.599818  0.599818  13   \n",
      "3          4  0.052700  0.052700    0.00  235.65  0.471300  0.471300  13   \n",
      "4          5  0.141880  0.141880    0.00  634.45  1.268900  1.268900  13   \n",
      "...      ...       ...       ...     ...     ...       ...       ...  ..   \n",
      "89729  89730  0.027941  0.014844   25.00  474.00  0.557647  0.296250  20   \n",
      "89730  89731  0.120017  0.068581  179.96  720.03  1.200050  0.685743  10   \n",
      "89731  89732  0.153033  0.122427   29.01  550.99  0.459158  0.367327   3   \n",
      "89732  89733  0.107575  0.043030   53.82  215.18  0.537950  0.215180   5   \n",
      "89733  89734  0.095750  0.095750   57.48  172.42  0.287367  0.287367   3   \n",
      "\n",
      "          H      I  ...       P          Q    R          S    T    U    V  \\\n",
      "0      3.49  Woman  ...   2 Two   property   No      Works  Yes  Yes   No   \n",
      "1      3.49  Woman  ...   2 Two  otherwise   No      Works  Yes  Yes  Yes   \n",
      "2      3.49  Woman  ...   1 One   property   No  No couple   No  Yes   No   \n",
      "3      3.49  Woman  ...  0 Zero   property   No  No couple  Yes  Yes  Few   \n",
      "4      3.49  Woman  ...  0 Zero   property   No  No couple  Yes   No   No   \n",
      "...     ...    ...  ...     ...        ...  ...        ...  ...  ...  ...   \n",
      "89729  0.01    Man  ...  0 Zero   property   No      Works  Yes  Yes   No   \n",
      "89730  0.00  Woman  ...   2 Two   property   No      Works  Yes  Yes   No   \n",
      "89731  0.00    Man  ...  0 Zero  otherwise   No      Works  Yes  Yes   No   \n",
      "89732  0.00  Woman  ...   1 One   property  Yes      Works   No  Yes   No   \n",
      "89733  0.00    Man  ...  0 Zero  otherwise   No  No couple   No  Yes   No   \n",
      "\n",
      "         W    X MARKER  \n",
      "0      Yes   No      0  \n",
      "1      Yes   No      0  \n",
      "2      Yes   No      0  \n",
      "3      Yes   No      0  \n",
      "4       No   No      0  \n",
      "...    ...  ...    ...  \n",
      "89729   No  Yes      0  \n",
      "89730   No  Yes      0  \n",
      "89731  Yes  Yes      0  \n",
      "89732   No  Yes      0  \n",
      "89733   No  Yes      0  \n",
      "\n",
      "[89734 rows x 26 columns]>\n"
     ]
    }
   ],
   "source": [
    "print(df.head())"
   ],
   "metadata": {
    "collapsed": false,
    "ExecuteTime": {
     "end_time": "2023-08-04T16:56:03.819451300Z",
     "start_time": "2023-08-04T16:56:03.796092500Z"
    }
   },
   "id": "e03b5e31e14f9745"
  },
  {
   "cell_type": "code",
   "execution_count": 17,
   "outputs": [
    {
     "name": "stdout",
     "output_type": "stream",
     "text": [
      "(89734, 26)\n"
     ]
    }
   ],
   "source": [
    "print(df.shape)"
   ],
   "metadata": {
    "collapsed": false,
    "ExecuteTime": {
     "end_time": "2023-08-04T16:55:06.667900500Z",
     "start_time": "2023-08-04T16:55:06.667396800Z"
    }
   },
   "id": "b4a6110e50e4aa57"
  },
  {
   "cell_type": "code",
   "execution_count": 18,
   "outputs": [
    {
     "name": "stdout",
     "output_type": "stream",
     "text": [
      "MARKER\n",
      "0    89392\n",
      "1      342\n",
      "dtype: int64\n"
     ]
    }
   ],
   "source": [
    "print(df.groupby('MARKER').size())"
   ],
   "metadata": {
    "collapsed": false,
    "ExecuteTime": {
     "end_time": "2023-08-04T16:55:17.589817600Z",
     "start_time": "2023-08-04T16:55:17.585295300Z"
    }
   },
   "id": "ae567fbce3f152fa"
  },
  {
   "cell_type": "code",
   "execution_count": 19,
   "outputs": [
    {
     "name": "stdout",
     "output_type": "stream",
     "text": [
      "ID        0\n",
      "A         0\n",
      "B         0\n",
      "C         0\n",
      "D         0\n",
      "E         0\n",
      "F         0\n",
      "G         0\n",
      "H         0\n",
      "I         0\n",
      "J         0\n",
      "K         0\n",
      "L         0\n",
      "M         0\n",
      "N         0\n",
      "O         0\n",
      "P         0\n",
      "Q         0\n",
      "R         0\n",
      "S         0\n",
      "T         0\n",
      "U         0\n",
      "V         0\n",
      "W         0\n",
      "X         0\n",
      "MARKER    0\n",
      "dtype: int64\n"
     ]
    }
   ],
   "source": [
    "print(df.isnull().sum())"
   ],
   "metadata": {
    "collapsed": false,
    "ExecuteTime": {
     "end_time": "2023-08-04T16:55:25.450595100Z",
     "start_time": "2023-08-04T16:55:25.419230100Z"
    }
   },
   "id": "ef7c843eb582c069"
  },
  {
   "cell_type": "code",
   "execution_count": 20,
   "outputs": [
    {
     "name": "stdout",
     "output_type": "stream",
     "text": [
      "                 ID             A             B             C             D  \\\n",
      "count  89734.000000  89734.000000  89734.000000  89734.000000  89734.000000   \n",
      "mean   44867.500000      0.167863      0.113511     85.801266    548.507954   \n",
      "std    25904.118865      0.153851      0.105340    105.366771    448.686233   \n",
      "min        1.000000      0.000002      0.000001      0.000000     49.980000   \n",
      "25%    22434.250000      0.065843      0.042922     20.570000    227.030000   \n",
      "50%    44867.500000      0.119133      0.079733     50.020000    408.735000   \n",
      "75%    67300.750000      0.220000      0.146990    108.930000    746.710000   \n",
      "max    89734.000000      7.067250      0.874025   2682.420000   4999.000000   \n",
      "\n",
      "                  E             F             G             H             J  \\\n",
      "count  89734.000000  89734.000000  89734.000000  89734.000000  89734.000000   \n",
      "mean       1.011455      0.683640      7.854358      0.510274     41.140778   \n",
      "std        0.910583      0.622047      4.754588      0.928146     11.129976   \n",
      "min        0.000016      0.000012      2.000000      0.000000     21.000000   \n",
      "25%        0.405983      0.263775      4.000000      0.000000     32.083333   \n",
      "50%        0.749403      0.499387      5.000000      0.000000     40.000000   \n",
      "75%        1.333367      0.899260     13.000000      0.010000     50.000000   \n",
      "max       35.337000     10.352991     24.000000      3.500000     64.916667   \n",
      "\n",
      "                  L        MARKER  \n",
      "count  89734.000000  89734.000000  \n",
      "mean     103.719092      0.003811  \n",
      "std      100.458022      0.061618  \n",
      "min        0.000000      0.000000  \n",
      "25%       29.000000      0.000000  \n",
      "50%       69.000000      0.000000  \n",
      "75%      144.000000      0.000000  \n",
      "max      540.000000      1.000000  \n"
     ]
    }
   ],
   "source": [
    "print(df.describe())"
   ],
   "metadata": {
    "collapsed": false,
    "ExecuteTime": {
     "end_time": "2023-08-04T16:55:44.571882900Z",
     "start_time": "2023-08-04T16:55:44.534273900Z"
    }
   },
   "id": "6dae286e76ee1211"
  },
  {
   "cell_type": "code",
   "execution_count": 31,
   "outputs": [
    {
     "name": "stdout",
     "output_type": "stream",
     "text": [
      "[  0.    49.97  40.7  ... 521.6  298.35 237.77]\n",
      "[13 24  5  2 10  4  9 11  6  3 20]\n",
      "[3.49  1.99  0.01  2.49  3.5   3.    2.99  0.    1.235 1.1   1.17  1.32\n",
      " 2.5  ]\n",
      "['Woman' 'Man']\n",
      "['Mogilev region' 'Minsk region' 'Vitebsk region' 'Brest region' 'Minsk'\n",
      " 'Grodno region' 'Gomel region']\n",
      "['NE employee' 'Pensioner' 'Head/Deputy head (organiz.)'\n",
      " 'Head/Deputy head (division)' 'Enterpreneur']\n",
      "['Secondary education (plus special education)'\n",
      " 'Higher education (one or more)' 'Incomplete higher education'\n",
      " 'Primary or lower secondary education']\n",
      "['Married' 'Divorced/widow' 'Single/unmarried' 'Cohabitation']\n",
      "['2 Two' '1 One' '0 Zero' '3 Three' 'More than 3']\n",
      "['No' 'Yes']\n",
      "['Works' 'No couple' 'Pensioner' 'Unemployed' 'Student']\n",
      "['Yes' 'No']\n",
      "['Yes' 'No']\n",
      "['No' 'Yes' 'Few']\n",
      "['Yes' 'No']\n",
      "['No' 'Yes']\n"
     ]
    }
   ],
   "source": [
    "print(df['C'].unique())\n",
    "print(df['G'].unique())\n",
    "print(df['H'].unique())\n",
    "print(df['I'].unique())\n",
    "print(df['K'].unique())\n",
    "print(df['M'].unique())\n",
    "print(df['N'].unique())\n",
    "print(df['O'].unique())\n",
    "print(df['P'].unique())\n",
    "print(df['R'].unique())\n",
    "print(df['S'].unique())\n",
    "print(df['T'].unique())\n",
    "print(df['U'].unique())\n",
    "print(df['V'].unique())\n",
    "print(df['W'].unique())\n",
    "print(df['X'].unique())"
   ],
   "metadata": {
    "collapsed": false,
    "ExecuteTime": {
     "end_time": "2023-08-04T17:06:16.584692600Z",
     "start_time": "2023-08-04T17:06:16.533397400Z"
    }
   },
   "id": "de264f39565444f0"
  },
  {
   "cell_type": "code",
   "execution_count": 64,
   "outputs": [],
   "source": [
    "df = df.rename(columns={'I': 'sex',\n",
    "                        'J': 'age',\n",
    "                        'K': 'region',\n",
    "                        'M': 'job', \n",
    "                        'N': 'edu', \n",
    "                        'O': 'married', \n",
    "                        'P': 'child',\n",
    "                        'Q': 'property', \n",
    "                        'S': 'status'})"
   ],
   "metadata": {
    "collapsed": false,
    "ExecuteTime": {
     "end_time": "2023-08-04T18:15:03.532522800Z",
     "start_time": "2023-08-04T18:15:03.516441300Z"
    }
   },
   "id": "71cbd50fd2c0c6ed"
  },
  {
   "cell_type": "code",
   "execution_count": 65,
   "outputs": [],
   "source": [
    "import re\n",
    "\n",
    "# Есть текстовые значения - заменим на 1 и 0\n",
    "df['sex'] = df['sex'].map({'Man': 1, 'Woman': 0})\n",
    "\n",
    "df['R'] = df['R'].map({'Yes': 1, 'No': 0})\n",
    "df['T'] = df['T'].map({'Yes': 1, 'No': 0})\n",
    "df['U'] = df['U'].map({'Yes': 1, 'No': 0})\n",
    "df['V'] = df['V'].map({'Yes': 1, 'No': 0, 'Few': 2})\n",
    "df['W'] = df['W'].map({'Yes': 1, 'No': 0})\n",
    "df['X'] = df['X'].map({'Yes': 1, 'No': 0})\n",
    "\n",
    "df['edu'] = df['edu'].map({'Higher education (one or more)': 3,\n",
    "                           'Secondary education (plus special education)': 1,\n",
    "                           'Incomplete higher education': 2,\n",
    "                           'Primary or lower secondary education': 0})\n",
    "\n",
    "df['married'] = df['married'].map({'Married': 1,\n",
    "                                   'Single/unmarried': 0,\n",
    "                                   'Divorced/widow': -1})\n",
    "\n",
    "df['job'] = df['job'].map({'NE employee': 0,\n",
    "                           'Pensioner': 1,\n",
    "                           'Head/Deputy head (organiz.)': 2,\n",
    "                           'Head/Deputy head (division)': 3,\n",
    "                           'Enterpreneur': 4})\n",
    "\n",
    "df['region'] = df['region'].map({'Mogilev region': 6,\n",
    "                                 'Minsk region': 5,\n",
    "                                 'Vitebsk region': 2,\n",
    "                                 'Brest region': 1,\n",
    "                                 'Minsk': 7,\n",
    "                                 'Grodno region': 4,\n",
    "                                 'Gomel region': 3})\n",
    "df['property'] = df['property'].map({'property': 2, 'rent/hire': 1, 'otherwise': 0})\n",
    "\n",
    "df['child'] = df['child'].map(lambda x: re.sub('[^0-9]+', '', str(x)))"
   ],
   "metadata": {
    "collapsed": false,
    "ExecuteTime": {
     "end_time": "2023-08-04T18:15:08.049431Z",
     "start_time": "2023-08-04T18:15:07.924368400Z"
    }
   },
   "id": "59cf7d3d627d7d40"
  },
  {
   "cell_type": "code",
   "execution_count": 66,
   "outputs": [
    {
     "name": "stdout",
     "output_type": "stream",
     "text": [
      "<bound method NDFrame.head of           ID         A         B       C       D         E         F   G  \\\n",
      "0          1  0.198778  0.099389    0.00  799.90  1.777556  0.888778  13   \n",
      "1          2  0.043000  0.021264   49.97  173.03  0.384511  0.190143  13   \n",
      "2          3  0.067073  0.067073    0.00  329.90  0.599818  0.599818  13   \n",
      "3          4  0.052700  0.052700    0.00  235.65  0.471300  0.471300  13   \n",
      "4          5  0.141880  0.141880    0.00  634.45  1.268900  1.268900  13   \n",
      "...      ...       ...       ...     ...     ...       ...       ...  ..   \n",
      "89729  89730  0.027941  0.014844   25.00  474.00  0.557647  0.296250  20   \n",
      "89730  89731  0.120017  0.068581  179.96  720.03  1.200050  0.685743  10   \n",
      "89731  89732  0.153033  0.122427   29.01  550.99  0.459158  0.367327   3   \n",
      "89732  89733  0.107575  0.043030   53.82  215.18  0.537950  0.215180   5   \n",
      "89733  89734  0.095750  0.095750   57.48  172.42  0.287367  0.287367   3   \n",
      "\n",
      "          H  sex  ...  child  property  R     status  T  U  V  W   X MARKER  \n",
      "0      3.49    0  ...      2         2  0      Works  1  1  0  1 NaN      0  \n",
      "1      3.49    0  ...      2         0  0      Works  1  1  1  1 NaN      0  \n",
      "2      3.49    0  ...      1         2  0  No couple  0  1  0  1 NaN      0  \n",
      "3      3.49    0  ...      0         2  0  No couple  1  1  2  1 NaN      0  \n",
      "4      3.49    0  ...      0         2  0  No couple  1  0  0  0 NaN      0  \n",
      "...     ...  ...  ...    ...       ... ..        ... .. .. .. ..  ..    ...  \n",
      "89729  0.01    1  ...      0         2  0      Works  1  1  0  0 NaN      0  \n",
      "89730  0.00    0  ...      2         2  0      Works  1  1  0  0 NaN      0  \n",
      "89731  0.00    1  ...      0         0  0      Works  1  1  0  1 NaN      0  \n",
      "89732  0.00    0  ...      1         2  1      Works  0  1  0  0 NaN      0  \n",
      "89733  0.00    1  ...      0         0  0  No couple  0  1  0  0 NaN      0  \n",
      "\n",
      "[89734 rows x 26 columns]>\n"
     ]
    }
   ],
   "source": [
    "print(df.head)"
   ],
   "metadata": {
    "collapsed": false,
    "ExecuteTime": {
     "end_time": "2023-08-04T18:15:10.166098400Z",
     "start_time": "2023-08-04T18:15:10.134763300Z"
    }
   },
   "id": "dd8607466941a278"
  },
  {
   "cell_type": "markdown",
   "source": [
    "#### Визуализация распределения целевого признака"
   ],
   "metadata": {
    "collapsed": false
   },
   "id": "5a555fbf91d8b208"
  },
  {
   "cell_type": "code",
   "execution_count": 13,
   "outputs": [
    {
     "data": {
      "text/plain": "<Figure size 640x480 with 1 Axes>",
      "image/png": "[encoded data removed]"
     },
     "metadata": {},
     "output_type": "display_data"
    }
   ],
   "source": [
    "sns.countplot(df['MARKER'])\n",
    "plt.title('Распределение целевого признака')\n",
    "plt.show()"
   ],
   "metadata": {
    "collapsed": false,
    "ExecuteTime": {
     "end_time": "2023-08-04T16:51:09.991271900Z",
     "start_time": "2023-08-04T16:51:09.907719200Z"
    }
   },
   "id": "c00484c0777a1cf0"
  },
  {
   "cell_type": "markdown",
   "source": [
    "#### Видно сильный дисбаланс классов - применим SMOTE"
   ],
   "metadata": {
    "collapsed": false
   },
   "id": "35a9d6cd0f3a4262"
  },
  {
   "cell_type": "code",
   "execution_count": 44,
   "outputs": [
    {
     "ename": "ValueError",
     "evalue": "could not convert string to float: 'Woman'",
     "output_type": "error",
     "traceback": [
      "\u001B[1;31m---------------------------------------------------------------------------\u001B[0m",
      "\u001B[1;31mValueError\u001B[0m                                Traceback (most recent call last)",
      "\u001B[1;32m~\\AppData\\Local\\Temp\\ipykernel_13416\\2206562957.py\u001B[0m in \u001B[0;36m?\u001B[1;34m()\u001B[0m\n\u001B[0;32m      2\u001B[0m \u001B[1;33m\u001B[0m\u001B[0m\n\u001B[0;32m      3\u001B[0m \u001B[0mX\u001B[0m \u001B[1;33m=\u001B[0m \u001B[0mdf\u001B[0m\u001B[1;33m.\u001B[0m\u001B[0mdrop\u001B[0m\u001B[1;33m(\u001B[0m\u001B[1;34m'MARKER'\u001B[0m\u001B[1;33m,\u001B[0m \u001B[0maxis\u001B[0m\u001B[1;33m=\u001B[0m\u001B[1;36m1\u001B[0m\u001B[1;33m)\u001B[0m\u001B[1;33m\u001B[0m\u001B[1;33m\u001B[0m\u001B[0m\n\u001B[0;32m      4\u001B[0m \u001B[0my\u001B[0m \u001B[1;33m=\u001B[0m \u001B[0mdf\u001B[0m\u001B[1;33m[\u001B[0m\u001B[1;34m'MARKER'\u001B[0m\u001B[1;33m]\u001B[0m\u001B[1;33m\u001B[0m\u001B[1;33m\u001B[0m\u001B[0m\n\u001B[0;32m      5\u001B[0m \u001B[1;33m\u001B[0m\u001B[0m\n\u001B[1;32m----> 6\u001B[1;33m \u001B[0mX\u001B[0m\u001B[1;33m,\u001B[0m \u001B[0my\u001B[0m \u001B[1;33m=\u001B[0m \u001B[0msmote\u001B[0m\u001B[1;33m.\u001B[0m\u001B[0mfit_resample\u001B[0m\u001B[1;33m(\u001B[0m\u001B[0mX\u001B[0m\u001B[1;33m,\u001B[0m \u001B[0my\u001B[0m\u001B[1;33m)\u001B[0m\u001B[1;33m\u001B[0m\u001B[1;33m\u001B[0m\u001B[0m\n\u001B[0m",
      "\u001B[1;32m~\\PycharmProjects\\alpha\\venv\\Lib\\site-packages\\imblearn\\base.py\u001B[0m in \u001B[0;36m?\u001B[1;34m(self, X, y)\u001B[0m\n\u001B[0;32m    204\u001B[0m         \u001B[0my_resampled\u001B[0m \u001B[1;33m:\u001B[0m \u001B[0marray\u001B[0m\u001B[1;33m-\u001B[0m\u001B[0mlike\u001B[0m \u001B[0mof\u001B[0m \u001B[0mshape\u001B[0m \u001B[1;33m(\u001B[0m\u001B[0mn_samples_new\u001B[0m\u001B[1;33m,\u001B[0m\u001B[1;33m)\u001B[0m\u001B[1;33m\u001B[0m\u001B[1;33m\u001B[0m\u001B[0m\n\u001B[0;32m    205\u001B[0m             \u001B[0mThe\u001B[0m \u001B[0mcorresponding\u001B[0m \u001B[0mlabel\u001B[0m \u001B[0mof\u001B[0m\u001B[0;31m \u001B[0m\u001B[0;31m`\u001B[0m\u001B[0mX_resampled\u001B[0m\u001B[0;31m`\u001B[0m\u001B[1;33m.\u001B[0m\u001B[1;33m\u001B[0m\u001B[1;33m\u001B[0m\u001B[0m\n\u001B[0;32m    206\u001B[0m         \"\"\"\n\u001B[0;32m    207\u001B[0m         \u001B[0mself\u001B[0m\u001B[1;33m.\u001B[0m\u001B[0m_validate_params\u001B[0m\u001B[1;33m(\u001B[0m\u001B[1;33m)\u001B[0m\u001B[1;33m\u001B[0m\u001B[1;33m\u001B[0m\u001B[0m\n\u001B[1;32m--> 208\u001B[1;33m         \u001B[1;32mreturn\u001B[0m \u001B[0msuper\u001B[0m\u001B[1;33m(\u001B[0m\u001B[1;33m)\u001B[0m\u001B[1;33m.\u001B[0m\u001B[0mfit_resample\u001B[0m\u001B[1;33m(\u001B[0m\u001B[0mX\u001B[0m\u001B[1;33m,\u001B[0m \u001B[0my\u001B[0m\u001B[1;33m)\u001B[0m\u001B[1;33m\u001B[0m\u001B[1;33m\u001B[0m\u001B[0m\n\u001B[0m",
      "\u001B[1;32m~\\PycharmProjects\\alpha\\venv\\Lib\\site-packages\\imblearn\\base.py\u001B[0m in \u001B[0;36m?\u001B[1;34m(self, X, y)\u001B[0m\n\u001B[0;32m    102\u001B[0m             \u001B[0mThe\u001B[0m \u001B[0mcorresponding\u001B[0m \u001B[0mlabel\u001B[0m \u001B[0mof\u001B[0m\u001B[0;31m \u001B[0m\u001B[0;31m`\u001B[0m\u001B[0mX_resampled\u001B[0m\u001B[0;31m`\u001B[0m\u001B[1;33m.\u001B[0m\u001B[1;33m\u001B[0m\u001B[1;33m\u001B[0m\u001B[0m\n\u001B[0;32m    103\u001B[0m         \"\"\"\n\u001B[0;32m    104\u001B[0m         \u001B[0mcheck_classification_targets\u001B[0m\u001B[1;33m(\u001B[0m\u001B[0my\u001B[0m\u001B[1;33m)\u001B[0m\u001B[1;33m\u001B[0m\u001B[1;33m\u001B[0m\u001B[0m\n\u001B[0;32m    105\u001B[0m         \u001B[0marrays_transformer\u001B[0m \u001B[1;33m=\u001B[0m \u001B[0mArraysTransformer\u001B[0m\u001B[1;33m(\u001B[0m\u001B[0mX\u001B[0m\u001B[1;33m,\u001B[0m \u001B[0my\u001B[0m\u001B[1;33m)\u001B[0m\u001B[1;33m\u001B[0m\u001B[1;33m\u001B[0m\u001B[0m\n\u001B[1;32m--> 106\u001B[1;33m         \u001B[0mX\u001B[0m\u001B[1;33m,\u001B[0m \u001B[0my\u001B[0m\u001B[1;33m,\u001B[0m \u001B[0mbinarize_y\u001B[0m \u001B[1;33m=\u001B[0m \u001B[0mself\u001B[0m\u001B[1;33m.\u001B[0m\u001B[0m_check_X_y\u001B[0m\u001B[1;33m(\u001B[0m\u001B[0mX\u001B[0m\u001B[1;33m,\u001B[0m \u001B[0my\u001B[0m\u001B[1;33m)\u001B[0m\u001B[1;33m\u001B[0m\u001B[1;33m\u001B[0m\u001B[0m\n\u001B[0m\u001B[0;32m    107\u001B[0m \u001B[1;33m\u001B[0m\u001B[0m\n\u001B[0;32m    108\u001B[0m         self.sampling_strategy_ = check_sampling_strategy(\n\u001B[0;32m    109\u001B[0m             \u001B[0mself\u001B[0m\u001B[1;33m.\u001B[0m\u001B[0msampling_strategy\u001B[0m\u001B[1;33m,\u001B[0m \u001B[0my\u001B[0m\u001B[1;33m,\u001B[0m \u001B[0mself\u001B[0m\u001B[1;33m.\u001B[0m\u001B[0m_sampling_type\u001B[0m\u001B[1;33m\u001B[0m\u001B[1;33m\u001B[0m\u001B[0m\n",
      "\u001B[1;32m~\\PycharmProjects\\alpha\\venv\\Lib\\site-packages\\imblearn\\base.py\u001B[0m in \u001B[0;36m?\u001B[1;34m(self, X, y, accept_sparse)\u001B[0m\n\u001B[0;32m    157\u001B[0m     \u001B[1;32mdef\u001B[0m \u001B[0m_check_X_y\u001B[0m\u001B[1;33m(\u001B[0m\u001B[0mself\u001B[0m\u001B[1;33m,\u001B[0m \u001B[0mX\u001B[0m\u001B[1;33m,\u001B[0m \u001B[0my\u001B[0m\u001B[1;33m,\u001B[0m \u001B[0maccept_sparse\u001B[0m\u001B[1;33m=\u001B[0m\u001B[1;32mNone\u001B[0m\u001B[1;33m)\u001B[0m\u001B[1;33m:\u001B[0m\u001B[1;33m\u001B[0m\u001B[1;33m\u001B[0m\u001B[0m\n\u001B[0;32m    158\u001B[0m         \u001B[1;32mif\u001B[0m \u001B[0maccept_sparse\u001B[0m \u001B[1;32mis\u001B[0m \u001B[1;32mNone\u001B[0m\u001B[1;33m:\u001B[0m\u001B[1;33m\u001B[0m\u001B[1;33m\u001B[0m\u001B[0m\n\u001B[0;32m    159\u001B[0m             \u001B[0maccept_sparse\u001B[0m \u001B[1;33m=\u001B[0m \u001B[1;33m[\u001B[0m\u001B[1;34m\"csr\"\u001B[0m\u001B[1;33m,\u001B[0m \u001B[1;34m\"csc\"\u001B[0m\u001B[1;33m]\u001B[0m\u001B[1;33m\u001B[0m\u001B[1;33m\u001B[0m\u001B[0m\n\u001B[0;32m    160\u001B[0m         \u001B[0my\u001B[0m\u001B[1;33m,\u001B[0m \u001B[0mbinarize_y\u001B[0m \u001B[1;33m=\u001B[0m \u001B[0mcheck_target_type\u001B[0m\u001B[1;33m(\u001B[0m\u001B[0my\u001B[0m\u001B[1;33m,\u001B[0m \u001B[0mindicate_one_vs_all\u001B[0m\u001B[1;33m=\u001B[0m\u001B[1;32mTrue\u001B[0m\u001B[1;33m)\u001B[0m\u001B[1;33m\u001B[0m\u001B[1;33m\u001B[0m\u001B[0m\n\u001B[1;32m--> 161\u001B[1;33m         \u001B[0mX\u001B[0m\u001B[1;33m,\u001B[0m \u001B[0my\u001B[0m \u001B[1;33m=\u001B[0m \u001B[0mself\u001B[0m\u001B[1;33m.\u001B[0m\u001B[0m_validate_data\u001B[0m\u001B[1;33m(\u001B[0m\u001B[0mX\u001B[0m\u001B[1;33m,\u001B[0m \u001B[0my\u001B[0m\u001B[1;33m,\u001B[0m \u001B[0mreset\u001B[0m\u001B[1;33m=\u001B[0m\u001B[1;32mTrue\u001B[0m\u001B[1;33m,\u001B[0m \u001B[0maccept_sparse\u001B[0m\u001B[1;33m=\u001B[0m\u001B[0maccept_sparse\u001B[0m\u001B[1;33m)\u001B[0m\u001B[1;33m\u001B[0m\u001B[1;33m\u001B[0m\u001B[0m\n\u001B[0m\u001B[0;32m    162\u001B[0m         \u001B[1;32mreturn\u001B[0m \u001B[0mX\u001B[0m\u001B[1;33m,\u001B[0m \u001B[0my\u001B[0m\u001B[1;33m,\u001B[0m \u001B[0mbinarize_y\u001B[0m\u001B[1;33m\u001B[0m\u001B[1;33m\u001B[0m\u001B[0m\n",
      "\u001B[1;32m~\\PycharmProjects\\alpha\\venv\\Lib\\site-packages\\sklearn\\base.py\u001B[0m in \u001B[0;36m?\u001B[1;34m(self, X, y, reset, validate_separately, cast_to_ndarray, **check_params)\u001B[0m\n\u001B[0;32m    617\u001B[0m                 \u001B[1;32mif\u001B[0m \u001B[1;34m\"estimator\"\u001B[0m \u001B[1;32mnot\u001B[0m \u001B[1;32min\u001B[0m \u001B[0mcheck_y_params\u001B[0m\u001B[1;33m:\u001B[0m\u001B[1;33m\u001B[0m\u001B[1;33m\u001B[0m\u001B[0m\n\u001B[0;32m    618\u001B[0m                     \u001B[0mcheck_y_params\u001B[0m \u001B[1;33m=\u001B[0m \u001B[1;33m{\u001B[0m\u001B[1;33m**\u001B[0m\u001B[0mdefault_check_params\u001B[0m\u001B[1;33m,\u001B[0m \u001B[1;33m**\u001B[0m\u001B[0mcheck_y_params\u001B[0m\u001B[1;33m}\u001B[0m\u001B[1;33m\u001B[0m\u001B[1;33m\u001B[0m\u001B[0m\n\u001B[0;32m    619\u001B[0m                 \u001B[0my\u001B[0m \u001B[1;33m=\u001B[0m \u001B[0mcheck_array\u001B[0m\u001B[1;33m(\u001B[0m\u001B[0my\u001B[0m\u001B[1;33m,\u001B[0m \u001B[0minput_name\u001B[0m\u001B[1;33m=\u001B[0m\u001B[1;34m\"y\"\u001B[0m\u001B[1;33m,\u001B[0m \u001B[1;33m**\u001B[0m\u001B[0mcheck_y_params\u001B[0m\u001B[1;33m)\u001B[0m\u001B[1;33m\u001B[0m\u001B[1;33m\u001B[0m\u001B[0m\n\u001B[0;32m    620\u001B[0m             \u001B[1;32melse\u001B[0m\u001B[1;33m:\u001B[0m\u001B[1;33m\u001B[0m\u001B[1;33m\u001B[0m\u001B[0m\n\u001B[1;32m--> 621\u001B[1;33m                 \u001B[0mX\u001B[0m\u001B[1;33m,\u001B[0m \u001B[0my\u001B[0m \u001B[1;33m=\u001B[0m \u001B[0mcheck_X_y\u001B[0m\u001B[1;33m(\u001B[0m\u001B[0mX\u001B[0m\u001B[1;33m,\u001B[0m \u001B[0my\u001B[0m\u001B[1;33m,\u001B[0m \u001B[1;33m**\u001B[0m\u001B[0mcheck_params\u001B[0m\u001B[1;33m)\u001B[0m\u001B[1;33m\u001B[0m\u001B[1;33m\u001B[0m\u001B[0m\n\u001B[0m\u001B[0;32m    622\u001B[0m             \u001B[0mout\u001B[0m \u001B[1;33m=\u001B[0m \u001B[0mX\u001B[0m\u001B[1;33m,\u001B[0m \u001B[0my\u001B[0m\u001B[1;33m\u001B[0m\u001B[1;33m\u001B[0m\u001B[0m\n\u001B[0;32m    623\u001B[0m \u001B[1;33m\u001B[0m\u001B[0m\n\u001B[0;32m    624\u001B[0m         \u001B[1;32mif\u001B[0m \u001B[1;32mnot\u001B[0m \u001B[0mno_val_X\u001B[0m \u001B[1;32mand\u001B[0m \u001B[0mcheck_params\u001B[0m\u001B[1;33m.\u001B[0m\u001B[0mget\u001B[0m\u001B[1;33m(\u001B[0m\u001B[1;34m\"ensure_2d\"\u001B[0m\u001B[1;33m,\u001B[0m \u001B[1;32mTrue\u001B[0m\u001B[1;33m)\u001B[0m\u001B[1;33m:\u001B[0m\u001B[1;33m\u001B[0m\u001B[1;33m\u001B[0m\u001B[0m\n",
      "\u001B[1;32m~\\PycharmProjects\\alpha\\venv\\Lib\\site-packages\\sklearn\\utils\\validation.py\u001B[0m in \u001B[0;36m?\u001B[1;34m(X, y, accept_sparse, accept_large_sparse, dtype, order, copy, force_all_finite, ensure_2d, allow_nd, multi_output, ensure_min_samples, ensure_min_features, y_numeric, estimator)\u001B[0m\n\u001B[0;32m   1143\u001B[0m         raise ValueError(\n\u001B[0;32m   1144\u001B[0m             \u001B[1;34mf\"{estimator_name} requires y to be passed, but the target y is None\"\u001B[0m\u001B[1;33m\u001B[0m\u001B[1;33m\u001B[0m\u001B[0m\n\u001B[0;32m   1145\u001B[0m         )\n\u001B[0;32m   1146\u001B[0m \u001B[1;33m\u001B[0m\u001B[0m\n\u001B[1;32m-> 1147\u001B[1;33m     X = check_array(\n\u001B[0m\u001B[0;32m   1148\u001B[0m         \u001B[0mX\u001B[0m\u001B[1;33m,\u001B[0m\u001B[1;33m\u001B[0m\u001B[1;33m\u001B[0m\u001B[0m\n\u001B[0;32m   1149\u001B[0m         \u001B[0maccept_sparse\u001B[0m\u001B[1;33m=\u001B[0m\u001B[0maccept_sparse\u001B[0m\u001B[1;33m,\u001B[0m\u001B[1;33m\u001B[0m\u001B[1;33m\u001B[0m\u001B[0m\n\u001B[0;32m   1150\u001B[0m         \u001B[0maccept_large_sparse\u001B[0m\u001B[1;33m=\u001B[0m\u001B[0maccept_large_sparse\u001B[0m\u001B[1;33m,\u001B[0m\u001B[1;33m\u001B[0m\u001B[1;33m\u001B[0m\u001B[0m\n",
      "\u001B[1;32m~\\PycharmProjects\\alpha\\venv\\Lib\\site-packages\\sklearn\\utils\\validation.py\u001B[0m in \u001B[0;36m?\u001B[1;34m(array, accept_sparse, accept_large_sparse, dtype, order, copy, force_all_finite, ensure_2d, allow_nd, ensure_min_samples, ensure_min_features, estimator, input_name)\u001B[0m\n\u001B[0;32m    914\u001B[0m                         )\n\u001B[0;32m    915\u001B[0m                     \u001B[0marray\u001B[0m \u001B[1;33m=\u001B[0m \u001B[0mxp\u001B[0m\u001B[1;33m.\u001B[0m\u001B[0mastype\u001B[0m\u001B[1;33m(\u001B[0m\u001B[0marray\u001B[0m\u001B[1;33m,\u001B[0m \u001B[0mdtype\u001B[0m\u001B[1;33m,\u001B[0m \u001B[0mcopy\u001B[0m\u001B[1;33m=\u001B[0m\u001B[1;32mFalse\u001B[0m\u001B[1;33m)\u001B[0m\u001B[1;33m\u001B[0m\u001B[1;33m\u001B[0m\u001B[0m\n\u001B[0;32m    916\u001B[0m                 \u001B[1;32melse\u001B[0m\u001B[1;33m:\u001B[0m\u001B[1;33m\u001B[0m\u001B[1;33m\u001B[0m\u001B[0m\n\u001B[0;32m    917\u001B[0m                     \u001B[0marray\u001B[0m \u001B[1;33m=\u001B[0m \u001B[0m_asarray_with_order\u001B[0m\u001B[1;33m(\u001B[0m\u001B[0marray\u001B[0m\u001B[1;33m,\u001B[0m \u001B[0morder\u001B[0m\u001B[1;33m=\u001B[0m\u001B[0morder\u001B[0m\u001B[1;33m,\u001B[0m \u001B[0mdtype\u001B[0m\u001B[1;33m=\u001B[0m\u001B[0mdtype\u001B[0m\u001B[1;33m,\u001B[0m \u001B[0mxp\u001B[0m\u001B[1;33m=\u001B[0m\u001B[0mxp\u001B[0m\u001B[1;33m)\u001B[0m\u001B[1;33m\u001B[0m\u001B[1;33m\u001B[0m\u001B[0m\n\u001B[1;32m--> 918\u001B[1;33m             \u001B[1;32mexcept\u001B[0m \u001B[0mComplexWarning\u001B[0m \u001B[1;32mas\u001B[0m \u001B[0mcomplex_warning\u001B[0m\u001B[1;33m:\u001B[0m\u001B[1;33m\u001B[0m\u001B[1;33m\u001B[0m\u001B[0m\n\u001B[0m\u001B[0;32m    919\u001B[0m                 raise ValueError(\n\u001B[0;32m    920\u001B[0m                     \u001B[1;34m\"Complex data not supported\\n{}\\n\"\u001B[0m\u001B[1;33m.\u001B[0m\u001B[0mformat\u001B[0m\u001B[1;33m(\u001B[0m\u001B[0marray\u001B[0m\u001B[1;33m)\u001B[0m\u001B[1;33m\u001B[0m\u001B[1;33m\u001B[0m\u001B[0m\n\u001B[0;32m    921\u001B[0m                 ) from complex_warning\n",
      "\u001B[1;32m~\\PycharmProjects\\alpha\\venv\\Lib\\site-packages\\sklearn\\utils\\_array_api.py\u001B[0m in \u001B[0;36m?\u001B[1;34m(array, dtype, order, copy, xp)\u001B[0m\n\u001B[0;32m    376\u001B[0m         \u001B[1;31m# Use NumPy API to support order\u001B[0m\u001B[1;33m\u001B[0m\u001B[1;33m\u001B[0m\u001B[0m\n\u001B[0;32m    377\u001B[0m         \u001B[1;32mif\u001B[0m \u001B[0mcopy\u001B[0m \u001B[1;32mis\u001B[0m \u001B[1;32mTrue\u001B[0m\u001B[1;33m:\u001B[0m\u001B[1;33m\u001B[0m\u001B[1;33m\u001B[0m\u001B[0m\n\u001B[0;32m    378\u001B[0m             \u001B[0marray\u001B[0m \u001B[1;33m=\u001B[0m \u001B[0mnumpy\u001B[0m\u001B[1;33m.\u001B[0m\u001B[0marray\u001B[0m\u001B[1;33m(\u001B[0m\u001B[0marray\u001B[0m\u001B[1;33m,\u001B[0m \u001B[0morder\u001B[0m\u001B[1;33m=\u001B[0m\u001B[0morder\u001B[0m\u001B[1;33m,\u001B[0m \u001B[0mdtype\u001B[0m\u001B[1;33m=\u001B[0m\u001B[0mdtype\u001B[0m\u001B[1;33m)\u001B[0m\u001B[1;33m\u001B[0m\u001B[1;33m\u001B[0m\u001B[0m\n\u001B[0;32m    379\u001B[0m         \u001B[1;32melse\u001B[0m\u001B[1;33m:\u001B[0m\u001B[1;33m\u001B[0m\u001B[1;33m\u001B[0m\u001B[0m\n\u001B[1;32m--> 380\u001B[1;33m             \u001B[0marray\u001B[0m \u001B[1;33m=\u001B[0m \u001B[0mnumpy\u001B[0m\u001B[1;33m.\u001B[0m\u001B[0masarray\u001B[0m\u001B[1;33m(\u001B[0m\u001B[0marray\u001B[0m\u001B[1;33m,\u001B[0m \u001B[0morder\u001B[0m\u001B[1;33m=\u001B[0m\u001B[0morder\u001B[0m\u001B[1;33m,\u001B[0m \u001B[0mdtype\u001B[0m\u001B[1;33m=\u001B[0m\u001B[0mdtype\u001B[0m\u001B[1;33m)\u001B[0m\u001B[1;33m\u001B[0m\u001B[1;33m\u001B[0m\u001B[0m\n\u001B[0m\u001B[0;32m    381\u001B[0m \u001B[1;33m\u001B[0m\u001B[0m\n\u001B[0;32m    382\u001B[0m         \u001B[1;31m# At this point array is a NumPy ndarray. We convert it to an array\u001B[0m\u001B[1;33m\u001B[0m\u001B[1;33m\u001B[0m\u001B[0m\n\u001B[0;32m    383\u001B[0m         \u001B[1;31m# container that is consistent with the input's namespace.\u001B[0m\u001B[1;33m\u001B[0m\u001B[1;33m\u001B[0m\u001B[0m\n",
      "\u001B[1;32m~\\PycharmProjects\\alpha\\venv\\Lib\\site-packages\\pandas\\core\\generic.py\u001B[0m in \u001B[0;36m?\u001B[1;34m(self, dtype)\u001B[0m\n\u001B[0;32m   1996\u001B[0m     \u001B[1;32mdef\u001B[0m \u001B[0m__array__\u001B[0m\u001B[1;33m(\u001B[0m\u001B[0mself\u001B[0m\u001B[1;33m,\u001B[0m \u001B[0mdtype\u001B[0m\u001B[1;33m:\u001B[0m \u001B[0mnpt\u001B[0m\u001B[1;33m.\u001B[0m\u001B[0mDTypeLike\u001B[0m \u001B[1;33m|\u001B[0m \u001B[1;32mNone\u001B[0m \u001B[1;33m=\u001B[0m \u001B[1;32mNone\u001B[0m\u001B[1;33m)\u001B[0m \u001B[1;33m->\u001B[0m \u001B[0mnp\u001B[0m\u001B[1;33m.\u001B[0m\u001B[0mndarray\u001B[0m\u001B[1;33m:\u001B[0m\u001B[1;33m\u001B[0m\u001B[1;33m\u001B[0m\u001B[0m\n\u001B[0;32m   1997\u001B[0m         \u001B[0mvalues\u001B[0m \u001B[1;33m=\u001B[0m \u001B[0mself\u001B[0m\u001B[1;33m.\u001B[0m\u001B[0m_values\u001B[0m\u001B[1;33m\u001B[0m\u001B[1;33m\u001B[0m\u001B[0m\n\u001B[1;32m-> 1998\u001B[1;33m         \u001B[0marr\u001B[0m \u001B[1;33m=\u001B[0m \u001B[0mnp\u001B[0m\u001B[1;33m.\u001B[0m\u001B[0masarray\u001B[0m\u001B[1;33m(\u001B[0m\u001B[0mvalues\u001B[0m\u001B[1;33m,\u001B[0m \u001B[0mdtype\u001B[0m\u001B[1;33m=\u001B[0m\u001B[0mdtype\u001B[0m\u001B[1;33m)\u001B[0m\u001B[1;33m\u001B[0m\u001B[1;33m\u001B[0m\u001B[0m\n\u001B[0m\u001B[0;32m   1999\u001B[0m         if (\n\u001B[0;32m   2000\u001B[0m             \u001B[0mastype_is_view\u001B[0m\u001B[1;33m(\u001B[0m\u001B[0mvalues\u001B[0m\u001B[1;33m.\u001B[0m\u001B[0mdtype\u001B[0m\u001B[1;33m,\u001B[0m \u001B[0marr\u001B[0m\u001B[1;33m.\u001B[0m\u001B[0mdtype\u001B[0m\u001B[1;33m)\u001B[0m\u001B[1;33m\u001B[0m\u001B[1;33m\u001B[0m\u001B[0m\n\u001B[0;32m   2001\u001B[0m             \u001B[1;32mand\u001B[0m \u001B[0musing_copy_on_write\u001B[0m\u001B[1;33m(\u001B[0m\u001B[1;33m)\u001B[0m\u001B[1;33m\u001B[0m\u001B[1;33m\u001B[0m\u001B[0m\n",
      "\u001B[1;31mValueError\u001B[0m: could not convert string to float: 'Woman'"
     ]
    }
   ],
   "source": [
    "smote = SMOTE()\n",
    "\n",
    "X = df.drop('MARKER', axis=1)\n",
    "y = df['MARKER']\n",
    "\n",
    "X, y = smote.fit_resample(X, y)"
   ],
   "metadata": {
    "collapsed": false,
    "ExecuteTime": {
     "end_time": "2023-08-04T17:45:32.234060400Z",
     "start_time": "2023-08-04T17:45:32.169946400Z"
    }
   },
   "id": "9a8e5497feb0c68c"
  },
  {
   "cell_type": "markdown",
   "source": [
    "#### Разбиваем выборку на train и test"
   ],
   "metadata": {
    "collapsed": false
   },
   "id": "e7266cbcaa3b9815"
  },
  {
   "cell_type": "code",
   "execution_count": null,
   "outputs": [],
   "source": [
    "X_train, X_test, y_train, y_test = train_test_split(X, y, test_size=0.2, random_state=42)"
   ],
   "metadata": {
    "collapsed": false,
    "ExecuteTime": {
     "start_time": "2023-08-04T16:51:10.074910200Z"
    }
   },
   "id": "b3bc9904e2de6da9"
  },
  {
   "cell_type": "markdown",
   "source": [
    "#### Обучаем логистическую регрессию"
   ],
   "metadata": {
    "collapsed": false
   },
   "id": "dd09d0abf9c9c95d"
  },
  {
   "cell_type": "code",
   "execution_count": null,
   "outputs": [],
   "source": [
    "log_reg = LogisticRegression()\n",
    "log_reg.fit(X_train, y_train)"
   ],
   "metadata": {
    "collapsed": false,
    "ExecuteTime": {
     "start_time": "2023-08-04T16:51:10.074910200Z"
    }
   },
   "id": "845c7133cb25da94"
  },
  {
   "cell_type": "markdown",
   "source": [
    "#### Оценка на train"
   ],
   "metadata": {
    "collapsed": false
   },
   "id": "2085b490843bc881"
  },
  {
   "cell_type": "code",
   "execution_count": null,
   "outputs": [],
   "source": [
    "y_pred = log_reg.predict(X_train)\n",
    "print(confusion_matrix(y_train, y_pred))\n",
    "print(classification_report(y_train, y_pred))"
   ],
   "metadata": {
    "collapsed": false,
    "ExecuteTime": {
     "start_time": "2023-08-04T16:51:10.074910200Z"
    }
   },
   "id": "529bd340948ed09d"
  },
  {
   "cell_type": "markdown",
   "source": [
    "#### Оценка на test"
   ],
   "metadata": {
    "collapsed": false
   },
   "id": "a8c505ec78660357"
  },
  {
   "cell_type": "code",
   "execution_count": null,
   "outputs": [],
   "source": [
    "y_pred = log_reg.predict(X_test)\n",
    "print(confusion_matrix(y_test, y_pred))\n",
    "print(classification_report(y_test, y_pred))"
   ],
   "metadata": {
    "collapsed": false,
    "ExecuteTime": {
     "start_time": "2023-08-04T16:51:10.074910200Z"
    }
   },
   "id": "64175f6cdd24555a"
  },
  {
   "cell_type": "markdown",
   "source": [
    "#### Поиск оптимальных гиперпараметров логистической регрессии"
   ],
   "metadata": {
    "collapsed": false
   },
   "id": "a163765026e2f62d"
  },
  {
   "cell_type": "code",
   "execution_count": null,
   "outputs": [],
   "source": [
    "params = {'C': [0.1, 1, 10, 100]}\n",
    "grid_search = GridSearchCV(log_reg, params, cv=5, n_jobs=-1)\n",
    "grid_search.fit(X_train, y_train)\n",
    "print(grid_search.best_params_)"
   ],
   "metadata": {
    "collapsed": false,
    "ExecuteTime": {
     "start_time": "2023-08-04T16:51:10.074910200Z"
    }
   },
   "id": "36af5b6f7c554693"
  },
  {
   "cell_type": "markdown",
   "source": [
    "#### Обучаем лучшую модель на всей train выборке"
   ],
   "metadata": {
    "collapsed": false
   },
   "id": "6893f97cfdc272d4"
  },
  {
   "cell_type": "code",
   "execution_count": null,
   "outputs": [],
   "source": [
    "best_log_reg = LogisticRegression(C=grid_search.best_params_['C'])\n",
    "best_log_reg.fit(X_train, y_train)"
   ],
   "metadata": {
    "collapsed": false,
    "ExecuteTime": {
     "start_time": "2023-08-04T16:51:10.074910200Z"
    }
   },
   "id": "717b2c01228a0d6e"
  },
  {
   "cell_type": "markdown",
   "source": [
    "#### Оценка лучшей модели на test выборке "
   ],
   "metadata": {
    "collapsed": false
   },
   "id": "f80c01511dd12ee"
  },
  {
   "cell_type": "code",
   "execution_count": null,
   "outputs": [],
   "source": [
    "y_pred = best_log_reg.predict(X_test)\n",
    "print(confusion_matrix(y_test, y_pred))\n",
    "print(classification_report(y_test, y_pred))"
   ],
   "metadata": {
    "collapsed": false,
    "ExecuteTime": {
     "start_time": "2023-08-04T16:51:10.074910200Z"
    }
   },
   "id": "fd9dbd117d749741"
  },
  {
   "cell_type": "code",
   "execution_count": null,
   "outputs": [],
   "source": [],
   "metadata": {
    "collapsed": false,
    "ExecuteTime": {
     "start_time": "2023-08-04T16:51:10.074910200Z"
    }
   },
   "id": "d4ff14dd1fe3f15d"
  },
  {
   "cell_type": "code",
   "execution_count": null,
   "outputs": [],
   "source": [],
   "metadata": {
    "collapsed": false,
    "ExecuteTime": {
     "start_time": "2023-08-04T16:51:10.074910200Z"
    }
   },
   "id": "5e08bc59d933a519"
  },
  {
   "cell_type": "code",
   "execution_count": null,
   "outputs": [],
   "source": [
    "best_log_reg.fit(X, y)\n",
    "print('Финальная модель - логистическая регрессия')"
   ],
   "metadata": {
    "collapsed": false,
    "ExecuteTime": {
     "start_time": "2023-08-04T16:51:10.074910200Z"
    }
   },
   "id": "ed8d41b15fd2183"
  },
  {
   "cell_type": "code",
   "execution_count": null,
   "outputs": [],
   "source": [],
   "metadata": {
    "collapsed": false,
    "ExecuteTime": {
     "start_time": "2023-08-04T16:51:10.090537300Z"
    }
   },
   "id": "37d0fe995524cb52"
  },
  {
   "cell_type": "code",
   "execution_count": null,
   "outputs": [],
   "source": [],
   "metadata": {
    "collapsed": false,
    "ExecuteTime": {
     "start_time": "2023-08-04T16:51:10.090537300Z"
    }
   },
   "id": "24d5731ed620df89"
  },
  {
   "cell_type": "code",
   "execution_count": null,
   "outputs": [],
   "source": [],
   "metadata": {
    "collapsed": false,
    "ExecuteTime": {
     "start_time": "2023-08-04T16:51:10.090537300Z"
    }
   },
   "id": "ceb1d93f8db9832a"
  },
  {
   "cell_type": "code",
   "execution_count": null,
   "outputs": [],
   "source": [],
   "metadata": {
    "collapsed": false,
    "ExecuteTime": {
     "start_time": "2023-08-04T16:51:10.090537300Z"
    }
   },
   "id": "9cd4539ecebd9eb3"
  },
  {
   "cell_type": "code",
   "execution_count": null,
   "outputs": [],
   "source": [],
   "metadata": {
    "collapsed": false,
    "ExecuteTime": {
     "start_time": "2023-08-04T16:51:10.090537300Z"
    }
   },
   "id": "b881959477dbefc0"
  },
  {
   "cell_type": "code",
   "execution_count": null,
   "outputs": [],
   "source": [],
   "metadata": {
    "collapsed": false,
    "ExecuteTime": {
     "start_time": "2023-08-04T16:51:10.090537300Z"
    }
   },
   "id": "1a37968f7ef619e9"
  },
  {
   "cell_type": "code",
   "execution_count": null,
   "outputs": [],
   "source": [],
   "metadata": {
    "collapsed": false,
    "ExecuteTime": {
     "start_time": "2023-08-04T16:51:10.090537300Z"
    }
   },
   "id": "3b8b54fb44e19708"
  },
  {
   "cell_type": "code",
   "execution_count": null,
   "outputs": [],
   "source": [],
   "metadata": {
    "collapsed": false,
    "ExecuteTime": {
     "start_time": "2023-08-04T16:51:10.090537300Z"
    }
   },
   "id": "ec2a5be0f8a4862d"
  },
  {
   "cell_type": "code",
   "execution_count": null,
   "outputs": [],
   "source": [],
   "metadata": {
    "collapsed": false,
    "ExecuteTime": {
     "start_time": "2023-08-04T16:51:10.090537300Z"
    }
   },
   "id": "58a79ee7ad4c3ab"
  },
  {
   "cell_type": "code",
   "execution_count": null,
   "outputs": [],
   "source": [],
   "metadata": {
    "collapsed": false,
    "ExecuteTime": {
     "start_time": "2023-08-04T16:51:10.090537300Z"
    }
   },
   "id": "32dba53240193936"
  },
  {
   "cell_type": "code",
   "execution_count": null,
   "outputs": [],
   "source": [],
   "metadata": {
    "collapsed": false,
    "ExecuteTime": {
     "start_time": "2023-08-04T16:51:10.090537300Z"
    }
   },
   "id": "aec7012f5717f996"
  },
  {
   "cell_type": "code",
   "execution_count": null,
   "outputs": [],
   "source": [],
   "metadata": {
    "collapsed": false,
    "ExecuteTime": {
     "start_time": "2023-08-04T16:51:10.090537300Z"
    }
   },
   "id": "37d530785df2a147"
  },
  {
   "cell_type": "code",
   "execution_count": null,
   "outputs": [],
   "source": [],
   "metadata": {
    "collapsed": false,
    "ExecuteTime": {
     "start_time": "2023-08-04T16:51:10.090537300Z"
    }
   },
   "id": "bebba8085dd1e182"
  },
  {
   "cell_type": "markdown",
   "source": [],
   "metadata": {
    "collapsed": false
   },
   "id": "dee18291f4360d5"
  }
 ],
 "metadata": {
  "kernelspec": {
   "display_name": "Python 3",
   "language": "python",
   "name": "python3"
  },
  "language_info": {
   "codemirror_mode": {
    "name": "ipython",
    "version": 2
   },
   "file_extension": ".py",
   "mimetype": "text/x-python",
   "name": "python",
   "nbconvert_exporter": "python",
   "pygments_lexer": "ipython2",
   "version": "2.7.6"
  }
 },
 "nbformat": 4,
 "nbformat_minor": 5
}
